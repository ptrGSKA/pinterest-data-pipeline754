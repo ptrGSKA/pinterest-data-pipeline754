{
 "cells": [
  {
   "cell_type": "markdown",
   "metadata": {
    "application/vnd.databricks.v1+cell": {
     "cellMetadata": {
      "byteLimit": 2048000,
      "rowLimit": 10000
     },
     "inputWidgets": {},
     "nuid": "0e13d6e9-c0cf-4ad9-be79-c1691bf3083d",
     "showTitle": false,
     "title": ""
    }
   },
   "source": [
    "\n",
    "# Batch data processing & querying\n",
    "\n",
    "Importing the integration notebook."
   ]
  },
  {
   "cell_type": "code",
   "execution_count": null,
   "metadata": {
    "application/vnd.databricks.v1+cell": {
     "cellMetadata": {
      "byteLimit": 2048000,
      "implicitDf": true,
      "rowLimit": 10000
     },
     "inputWidgets": {},
     "nuid": "95b5821f-7e3c-45e5-b4c8-44528de6712d",
     "showTitle": false,
     "title": ""
    }
   },
   "outputs": [
    {
     "data": {
      "text/html": [
       "<style scoped>\n",
       "  .ansiout {\n",
       "    display: block;\n",
       "    unicode-bidi: embed;\n",
       "    white-space: pre-wrap;\n",
       "    word-wrap: break-word;\n",
       "    word-break: break-all;\n",
       "    font-family: \"Menlo\", \"Monaco\", \"Consolas\", \"Ubuntu Mono\", \"Source Code Pro\", monospace;\n",
       "    font-size: 13px;\n",
       "    color: #555;\n",
       "    margin-left: 4px;\n",
       "    line-height: 19px;\n",
       "  }\n",
       "</style>\n",
       "<div class=\"ansiout\"></div>"
      ]
     },
     "metadata": {
      "application/vnd.databricks.v1+output": {
       "addedWidgets": {},
       "arguments": {},
       "data": "<div class=\"ansiout\"></div>",
       "datasetInfos": [],
       "metadata": {},
       "removedWidgets": [],
       "type": "html"
      }
     },
     "output_type": "display_data"
    }
   ],
   "source": [
    "%run /Users/<user_email>/AWS_S3_mounting_Notebook"
   ]
  },
  {
   "cell_type": "markdown",
   "metadata": {
    "application/vnd.databricks.v1+cell": {
     "cellMetadata": {
      "byteLimit": 2048000,
      "rowLimit": 10000
     },
     "inputWidgets": {},
     "nuid": "4ed77ac1-2a0b-4759-9118-e85388db1061",
     "showTitle": false,
     "title": ""
    }
   },
   "source": [
    "## Data ingestion\n",
    "\n",
    "Reading the data from the pin topic into a table and checking it's content."
   ]
  },
  {
   "cell_type": "code",
   "execution_count": null,
   "metadata": {
    "application/vnd.databricks.v1+cell": {
     "cellMetadata": {
      "byteLimit": 2048000,
      "rowLimit": 10000
     },
     "inputWidgets": {},
     "nuid": "37cd8331-649a-4f17-8fd9-0ef8f816feec",
     "showTitle": false,
     "title": ""
    }
   },
   "outputs": [
    {
     "data": {
      "text/html": [
       "<style scoped>\n",
       "  .ansiout {\n",
       "    display: block;\n",
       "    unicode-bidi: embed;\n",
       "    white-space: pre-wrap;\n",
       "    word-wrap: break-word;\n",
       "    word-break: break-all;\n",
       "    font-family: \"Menlo\", \"Monaco\", \"Consolas\", \"Ubuntu Mono\", \"Source Code Pro\", monospace;\n",
       "    font-size: 13px;\n",
       "    color: #555;\n",
       "    margin-left: 4px;\n",
       "    line-height: 19px;\n",
       "  }\n",
       "</style>\n",
       "<div class=\"ansiout\">+--------------+--------------------+----------+--------------+--------------------+-----+-----------------+--------------------+--------------------+--------------------+---------------------+--------------------+\n",
       "      category|         description|downloaded|follower_count|           image_src|index|is_image_or_video|         poster_name|       save_location|            tag_list|                title|           unique_id|\n",
       "+--------------+--------------------+----------+--------------+--------------------+-----+-----------------+--------------------+--------------------+--------------------+---------------------+--------------------+\n",
       "    home-decor|Традиционные швед...|         1|          136k|https://i.pinimg....| 6717|            image|PUFIK Interiors &amp;...|Local save in /da...|Scandinavian Cott...|〚 Уютные шведские...|bc5ab9ee-505e-44f...|\n",
       "     christmas|Features: Materia...|         1|            5k|https://i.pinimg....| 1706|            image|            Wear24-7|Local save in /da...|Merry Christmas T...| Standing Figurine...|b5c8a1b5-9e90-452...|\n",
       "     christmas|Christmas decorat...|         1|           46k|https://i.pinimg....| 2482|            video|Life on Summerhil...|Local save in /da...|Diy Christmas Dec...| FORNT PORCH CHRIS...|08604f20-fa17-4b9...|\n",
       "           art|Marble Wall Art M...|         1|           305|https://i.pinimg....|  527|            image|    Wall Canvas Mall|Local save in /da...|Modern Art Painti...| Blue Gold Marble ...|ed8af037-ee87-4a8...|\n",
       "event-planning|Updated: January ...|         1|            4k|https://i.pinimg....| 4357|            image|EventPlanning.com...|Local save in /da...|Event Planning Qu...| First Steps in La...|ccf116e9-9096-494...|\n",
       "+--------------+--------------------+----------+--------------+--------------------+-----+-----------------+--------------------+--------------------+--------------------+---------------------+--------------------+\n",
       "only showing top 5 rows\n",
       "\n",
       "</div>"
      ]
     },
     "metadata": {
      "application/vnd.databricks.v1+output": {
       "addedWidgets": {},
       "arguments": {},
       "data": "<div class=\"ansiout\">+--------------+--------------------+----------+--------------+--------------------+-----+-----------------+--------------------+--------------------+--------------------+---------------------+--------------------+\n|      category|         description|downloaded|follower_count|           image_src|index|is_image_or_video|         poster_name|       save_location|            tag_list|                title|           unique_id|\n+--------------+--------------------+----------+--------------+--------------------+-----+-----------------+--------------------+--------------------+--------------------+---------------------+--------------------+\n|    home-decor|Традиционные швед...|         1|          136k|https://i.pinimg....| 6717|            image|PUFIK Interiors &amp;...|Local save in /da...|Scandinavian Cott...|〚 Уютные шведские...|bc5ab9ee-505e-44f...|\n|     christmas|Features: Materia...|         1|            5k|https://i.pinimg....| 1706|            image|            Wear24-7|Local save in /da...|Merry Christmas T...| Standing Figurine...|b5c8a1b5-9e90-452...|\n|     christmas|Christmas decorat...|         1|           46k|https://i.pinimg....| 2482|            video|Life on Summerhil...|Local save in /da...|Diy Christmas Dec...| FORNT PORCH CHRIS...|08604f20-fa17-4b9...|\n|           art|Marble Wall Art M...|         1|           305|https://i.pinimg....|  527|            image|    Wall Canvas Mall|Local save in /da...|Modern Art Painti...| Blue Gold Marble ...|ed8af037-ee87-4a8...|\n|event-planning|Updated: January ...|         1|            4k|https://i.pinimg....| 4357|            image|EventPlanning.com...|Local save in /da...|Event Planning Qu...| First Steps in La...|ccf116e9-9096-494...|\n+--------------+--------------------+----------+--------------+--------------------+-----+-----------------+--------------------+--------------------+--------------------+---------------------+--------------------+\nonly showing top 5 rows\n\n</div>",
       "datasetInfos": [],
       "metadata": {},
       "removedWidgets": [],
       "type": "html"
      }
     },
     "output_type": "display_data"
    }
   ],
   "source": [
    "df_pin = make_df_tables('df_pin', 'pin')\n",
    "df_pin.show(5)"
   ]
  },
  {
   "cell_type": "markdown",
   "metadata": {
    "application/vnd.databricks.v1+cell": {
     "cellMetadata": {
      "byteLimit": 2048000,
      "rowLimit": 10000
     },
     "inputWidgets": {},
     "nuid": "1eac7cb1-968a-4dfb-b237-23cbf99c0b92",
     "showTitle": false,
     "title": ""
    }
   },
   "source": [
    "\n",
    "Reading the data from the geo topic into a table and checking it's content."
   ]
  },
  {
   "cell_type": "code",
   "execution_count": null,
   "metadata": {
    "application/vnd.databricks.v1+cell": {
     "cellMetadata": {
      "byteLimit": 2048000,
      "rowLimit": 10000
     },
     "inputWidgets": {},
     "nuid": "55ecae73-9805-4e7d-969d-73377a7dcddd",
     "showTitle": false,
     "title": ""
    }
   },
   "outputs": [
    {
     "data": {
      "text/html": [
       "<style scoped>\n",
       "  .ansiout {\n",
       "    display: block;\n",
       "    unicode-bidi: embed;\n",
       "    white-space: pre-wrap;\n",
       "    word-wrap: break-word;\n",
       "    word-break: break-all;\n",
       "    font-family: \"Menlo\", \"Monaco\", \"Consolas\", \"Ubuntu Mono\", \"Source Code Pro\", monospace;\n",
       "    font-size: 13px;\n",
       "    color: #555;\n",
       "    margin-left: 4px;\n",
       "    line-height: 19px;\n",
       "  }\n",
       "</style>\n",
       "<div class=\"ansiout\">+--------------------+----+--------+---------+-------------------+\n",
       "             country| ind|latitude|longitude|          timestamp|\n",
       "+--------------------+----+--------+---------+-------------------+\n",
       "Antarctica (the t...|2418|-88.4642| -171.061|2022-05-27T11:30:59|\n",
       "Antarctica (the t...|2418|-88.4642| -171.061|2022-05-27T11:30:59|\n",
       "Antarctica (the t...|5162|-71.6607| -149.206|2019-09-27T19:06:43|\n",
       "Antarctica (the t...|1335|-77.9931| -175.682|2022-03-19T17:29:42|\n",
       "Saint Vincent and...|2301| 13.4683|  51.7244|2020-11-14T00:25:28|\n",
       "+--------------------+----+--------+---------+-------------------+\n",
       "only showing top 5 rows\n",
       "\n",
       "</div>"
      ]
     },
     "metadata": {
      "application/vnd.databricks.v1+output": {
       "addedWidgets": {},
       "arguments": {},
       "data": "<div class=\"ansiout\">+--------------------+----+--------+---------+-------------------+\n|             country| ind|latitude|longitude|          timestamp|\n+--------------------+----+--------+---------+-------------------+\n|Antarctica (the t...|2418|-88.4642| -171.061|2022-05-27T11:30:59|\n|Antarctica (the t...|2418|-88.4642| -171.061|2022-05-27T11:30:59|\n|Antarctica (the t...|5162|-71.6607| -149.206|2019-09-27T19:06:43|\n|Antarctica (the t...|1335|-77.9931| -175.682|2022-03-19T17:29:42|\n|Saint Vincent and...|2301| 13.4683|  51.7244|2020-11-14T00:25:28|\n+--------------------+----+--------+---------+-------------------+\nonly showing top 5 rows\n\n</div>",
       "datasetInfos": [],
       "metadata": {},
       "removedWidgets": [],
       "type": "html"
      }
     },
     "output_type": "display_data"
    }
   ],
   "source": [
    "df_geo = make_df_tables('df_geo', 'geo')\n",
    "df_geo.show(5)"
   ]
  },
  {
   "cell_type": "markdown",
   "metadata": {
    "application/vnd.databricks.v1+cell": {
     "cellMetadata": {
      "byteLimit": 2048000,
      "rowLimit": 10000
     },
     "inputWidgets": {},
     "nuid": "d45e0fbb-74ef-4ee7-814c-9b10d3573439",
     "showTitle": false,
     "title": ""
    }
   },
   "source": [
    "\n",
    "Reading the data from the user topic into a table and checking it's content."
   ]
  },
  {
   "cell_type": "code",
   "execution_count": null,
   "metadata": {
    "application/vnd.databricks.v1+cell": {
     "cellMetadata": {
      "byteLimit": 2048000,
      "rowLimit": 10000
     },
     "inputWidgets": {},
     "nuid": "d3963486-4634-4457-a578-641c8eedf33a",
     "showTitle": false,
     "title": ""
    }
   },
   "outputs": [
    {
     "data": {
      "text/html": [
       "<style scoped>\n",
       "  .ansiout {\n",
       "    display: block;\n",
       "    unicode-bidi: embed;\n",
       "    white-space: pre-wrap;\n",
       "    word-wrap: break-word;\n",
       "    word-break: break-all;\n",
       "    font-family: \"Menlo\", \"Monaco\", \"Consolas\", \"Ubuntu Mono\", \"Source Code Pro\", monospace;\n",
       "    font-size: 13px;\n",
       "    color: #555;\n",
       "    margin-left: 4px;\n",
       "    line-height: 19px;\n",
       "  }\n",
       "</style>\n",
       "<div class=\"ansiout\">+---+-------------------+-----------+-----+---------+\n",
       "age|        date_joined| first_name|  ind|last_name|\n",
       "+---+-------------------+-----------+-----+---------+\n",
       " 27|2016-03-08T13:38:37|Christopher| 2015| Bradshaw|\n",
       " 59|2017-05-12T21:22:17|  Alexander|10673|Cervantes|\n",
       " 48|2016-02-27T16:57:44|Christopher| 1857| Hamilton|\n",
       " 39|2016-06-29T20:43:59|  Christina| 6398|Davenport|\n",
       " 20|2015-10-23T04:13:23| Alexandria| 3599| Alvarado|\n",
       "+---+-------------------+-----------+-----+---------+\n",
       "only showing top 5 rows\n",
       "\n",
       "</div>"
      ]
     },
     "metadata": {
      "application/vnd.databricks.v1+output": {
       "addedWidgets": {},
       "arguments": {},
       "data": "<div class=\"ansiout\">+---+-------------------+-----------+-----+---------+\n|age|        date_joined| first_name|  ind|last_name|\n+---+-------------------+-----------+-----+---------+\n| 27|2016-03-08T13:38:37|Christopher| 2015| Bradshaw|\n| 59|2017-05-12T21:22:17|  Alexander|10673|Cervantes|\n| 48|2016-02-27T16:57:44|Christopher| 1857| Hamilton|\n| 39|2016-06-29T20:43:59|  Christina| 6398|Davenport|\n| 20|2015-10-23T04:13:23| Alexandria| 3599| Alvarado|\n+---+-------------------+-----------+-----+---------+\nonly showing top 5 rows\n\n</div>",
       "datasetInfos": [],
       "metadata": {},
       "removedWidgets": [],
       "type": "html"
      }
     },
     "output_type": "display_data"
    }
   ],
   "source": [
    "df_user = make_df_tables('df_user', 'user')\n",
    "df_user.show(5)"
   ]
  },
  {
   "cell_type": "markdown",
   "metadata": {
    "application/vnd.databricks.v1+cell": {
     "cellMetadata": {
      "byteLimit": 2048000,
      "rowLimit": 10000
     },
     "inputWidgets": {},
     "nuid": "ee33610d-93fb-495a-abb1-7b2e88e994f3",
     "showTitle": false,
     "title": ""
    }
   },
   "source": [
    "## Data cleaning\n",
    "\n",
    "### 1. Cleaning the pinterest posts dataset"
   ]
  },
  {
   "cell_type": "code",
   "execution_count": null,
   "metadata": {
    "application/vnd.databricks.v1+cell": {
     "cellMetadata": {
      "byteLimit": 2048000,
      "rowLimit": 10000
     },
     "inputWidgets": {},
     "nuid": "eb3f6263-c8f7-4a36-912d-3b35b64ce73b",
     "showTitle": false,
     "title": ""
    }
   },
   "outputs": [
    {
     "data": {
      "text/html": [
       "<style scoped>\n",
       "  .ansiout {\n",
       "    display: block;\n",
       "    unicode-bidi: embed;\n",
       "    white-space: pre-wrap;\n",
       "    word-wrap: break-word;\n",
       "    word-break: break-all;\n",
       "    font-family: \"Menlo\", \"Monaco\", \"Consolas\", \"Ubuntu Mono\", \"Source Code Pro\", monospace;\n",
       "    font-size: 13px;\n",
       "    color: #555;\n",
       "    margin-left: 4px;\n",
       "    line-height: 19px;\n",
       "  }\n",
       "</style>\n",
       "<div class=\"ansiout\"></div>"
      ]
     },
     "metadata": {
      "application/vnd.databricks.v1+output": {
       "addedWidgets": {},
       "arguments": {},
       "data": "<div class=\"ansiout\"></div>",
       "datasetInfos": [],
       "metadata": {},
       "removedWidgets": [],
       "type": "html"
      }
     },
     "output_type": "display_data"
    }
   ],
   "source": [
    "# In a dictionary each key has to be unique, hence the value to replace is the key and the column is the value\n",
    "# due to the description column appears three times.    \n",
    "to_replace = {\n",
    "    'No description available': 'description',\n",
    "    'Image src error.': 'image_src',\n",
    "    'User Info Error': 'poster_name',\n",
    "    'N,o, ,T,a,g,s, ,A,v,a,i,l,a,b,l,e': 'tag_list', \n",
    "    'No Title Data Available': 'title',\n",
    "    'No description available Story format': 'description',\n",
    "    'Untitled': 'description'\n",
    "}\n",
    "\n",
    "for value, column in to_replace.items():\n",
    "    df_pin = df_pin.replace({value: None}, subset=[column])\n",
    "\n",
    "# There is an extra cleaning necessary as it would be a duplicate in the dictionary.\n",
    "df_pin = df_pin.replace({'User Info Error': None}, subset=['follower_count'])\n",
    "\n",
    "df_pin = df_pin.dropDuplicates(df_pin.columns)"
   ]
  },
  {
   "cell_type": "code",
   "execution_count": null,
   "metadata": {
    "application/vnd.databricks.v1+cell": {
     "cellMetadata": {
      "byteLimit": 2048000,
      "rowLimit": 10000
     },
     "inputWidgets": {},
     "nuid": "8b8910ce-9946-4e35-8a99-bc5bbac55ae4",
     "showTitle": false,
     "title": ""
    }
   },
   "outputs": [
    {
     "data": {
      "text/html": [
       "<style scoped>\n",
       "  .ansiout {\n",
       "    display: block;\n",
       "    unicode-bidi: embed;\n",
       "    white-space: pre-wrap;\n",
       "    word-wrap: break-word;\n",
       "    word-break: break-all;\n",
       "    font-family: \"Menlo\", \"Monaco\", \"Consolas\", \"Ubuntu Mono\", \"Source Code Pro\", monospace;\n",
       "    font-size: 13px;\n",
       "    color: #555;\n",
       "    margin-left: 4px;\n",
       "    line-height: 19px;\n",
       "  }\n",
       "</style>\n",
       "<div class=\"ansiout\"></div>"
      ]
     },
     "metadata": {
      "application/vnd.databricks.v1+output": {
       "addedWidgets": {},
       "arguments": {},
       "data": "<div class=\"ansiout\"></div>",
       "datasetInfos": [],
       "metadata": {},
       "removedWidgets": [],
       "type": "html"
      }
     },
     "output_type": "display_data"
    }
   ],
   "source": [
    "# Rewriting the follower_count coliumn to be numeric only.\n",
    "df_pin = df_pin.withColumn('follower_count', regexp_replace(df_pin['follower_count'], 'k','000'))\n",
    "df_pin = df_pin.withColumn('follower_count', regexp_replace(df_pin['follower_count'], 'M','000000'))\n",
    "\n",
    "# Transforming the column to integer format.\n",
    "df_pin = df_pin.withColumn('follower_count', df_pin['follower_count'].cast('int'))\n",
    "\n",
    "# Casting column into numeric types\n",
    "df_pin = df_pin.withColumn('downloaded', df_pin['downloaded'].cast('int'))\n",
    "df_pin = df_pin.withColumn('index', df_pin['index'].cast('int'))\n",
    "\n",
    "# Cleaning the save_location column\n",
    "df_pin = df_pin.withColumn('save_location', regexp_replace(df_pin['save_location'], 'Local save in ',''))\n",
    "\n",
    "# Renaming index column\n",
    "df_pin = df_pin.withColumnRenamed('index', 'ind')\n",
    "\n",
    "# Rearranging the columns\n",
    "df_pin = df_pin.select('ind',\n",
    "                    'unique_id',\n",
    "                    'title',\n",
    "                    'description',\n",
    "                    'follower_count',\n",
    "                    'poster_name',\n",
    "                    'tag_list',\n",
    "                    'is_image_or_video',\n",
    "                    'image_src',\n",
    "                    'save_location',\n",
    "                    'category'\n",
    ")"
   ]
  },
  {
   "cell_type": "markdown",
   "metadata": {
    "application/vnd.databricks.v1+cell": {
     "cellMetadata": {
      "byteLimit": 2048000,
      "rowLimit": 10000
     },
     "inputWidgets": {},
     "nuid": "15e43749-c545-4036-96a1-90dc68aee633",
     "showTitle": false,
     "title": ""
    }
   },
   "source": [
    "\n",
    "### Cleaning the geolocation dataset"
   ]
  },
  {
   "cell_type": "code",
   "execution_count": null,
   "metadata": {
    "application/vnd.databricks.v1+cell": {
     "cellMetadata": {
      "byteLimit": 2048000,
      "rowLimit": 10000
     },
     "inputWidgets": {},
     "nuid": "ab1c4a89-b4be-4e98-a7c2-aa9f00582aaa",
     "showTitle": false,
     "title": ""
    }
   },
   "outputs": [
    {
     "data": {
      "text/html": [
       "<style scoped>\n",
       "  .ansiout {\n",
       "    display: block;\n",
       "    unicode-bidi: embed;\n",
       "    white-space: pre-wrap;\n",
       "    word-wrap: break-word;\n",
       "    word-break: break-all;\n",
       "    font-family: \"Menlo\", \"Monaco\", \"Consolas\", \"Ubuntu Mono\", \"Source Code Pro\", monospace;\n",
       "    font-size: 13px;\n",
       "    color: #555;\n",
       "    margin-left: 4px;\n",
       "    line-height: 19px;\n",
       "  }\n",
       "</style>\n",
       "<div class=\"ansiout\"></div>"
      ]
     },
     "metadata": {
      "application/vnd.databricks.v1+output": {
       "addedWidgets": {},
       "arguments": {},
       "data": "<div class=\"ansiout\"></div>",
       "datasetInfos": [],
       "metadata": {},
       "removedWidgets": [],
       "type": "html"
      }
     },
     "output_type": "display_data"
    }
   ],
   "source": [
    "# Creating a new column coordinates with the latitude and longitude as array.\n",
    "df_geo = df_geo.withColumn('coordinates', array(df_geo['latitude'], df_geo['longitude']))\n",
    "\n",
    "# Dropping the latutide and longitude columns as no longer needed.\n",
    "df_geo = df_geo.drop('latitude','longitude')\n",
    "\n",
    "# Casting the timestamp column into timestamp format.\n",
    "df_geo = df_geo.withColumn('timestamp', to_timestamp('timestamp'))\n",
    "df_geo = df_geo.withColumn('timestamp', date_format('timestamp', 'yyyy-MM-dd HH:mm:ss'))\n",
    "\n",
    "# Dropping duplicate entries\n",
    "df_pin = df_pin.dropDuplicates(df_pin.columns)\n",
    "\n",
    "# Reordering the columns\n",
    "df_geo = df_geo.select('ind',\n",
    "                       'country',\n",
    "                       'coordinates',\n",
    "                       'timestamp')"
   ]
  },
  {
   "cell_type": "markdown",
   "metadata": {
    "application/vnd.databricks.v1+cell": {
     "cellMetadata": {
      "byteLimit": 2048000,
      "rowLimit": 10000
     },
     "inputWidgets": {},
     "nuid": "e3dc4c42-b458-4efd-a231-53045d456282",
     "showTitle": false,
     "title": ""
    }
   },
   "source": [
    "\n",
    "### Cleaning the users dataset"
   ]
  },
  {
   "cell_type": "code",
   "execution_count": null,
   "metadata": {
    "application/vnd.databricks.v1+cell": {
     "cellMetadata": {
      "byteLimit": 2048000,
      "rowLimit": 10000
     },
     "inputWidgets": {},
     "nuid": "dae96514-58bb-475b-ad11-c1c363f3ce09",
     "showTitle": false,
     "title": ""
    }
   },
   "outputs": [
    {
     "data": {
      "text/html": [
       "<style scoped>\n",
       "  .ansiout {\n",
       "    display: block;\n",
       "    unicode-bidi: embed;\n",
       "    white-space: pre-wrap;\n",
       "    word-wrap: break-word;\n",
       "    word-break: break-all;\n",
       "    font-family: \"Menlo\", \"Monaco\", \"Consolas\", \"Ubuntu Mono\", \"Source Code Pro\", monospace;\n",
       "    font-size: 13px;\n",
       "    color: #555;\n",
       "    margin-left: 4px;\n",
       "    line-height: 19px;\n",
       "  }\n",
       "</style>\n",
       "<div class=\"ansiout\"></div>"
      ]
     },
     "metadata": {
      "application/vnd.databricks.v1+output": {
       "addedWidgets": {},
       "arguments": {},
       "data": "<div class=\"ansiout\"></div>",
       "datasetInfos": [],
       "metadata": {},
       "removedWidgets": [],
       "type": "html"
      }
     },
     "output_type": "display_data"
    }
   ],
   "source": [
    "# Creating a new colum containing the first name and last name of the user\n",
    "df_user = df_user.withColumn('user_name', concat(df_user['first_name'], lit(' '), df_user['last_name']))\n",
    "\n",
    "# Dropping the first_name and last_name columns as no longer needed.\n",
    "df_user = df_user.drop('first_name','last_name')\n",
    "\n",
    "# Casting the date_joined column into timestamp format.\n",
    "df_user = df_user.withColumn('date_joined', to_timestamp('date_joined'))\n",
    "df_user = df_user.withColumn('date_joined', date_format('date_joined', 'yyyy-MM-dd HH:mm:ss'))\n",
    "\n",
    "# Dropping duplicate entries\n",
    "df_pin = df_pin.dropDuplicates(df_pin.columns)\n",
    "\n",
    "# Reordering the columns\n",
    "df_user = df_user.select('ind',\n",
    "                       'user_name',\n",
    "                       'age',\n",
    "                       'date_joined')"
   ]
  },
  {
   "cell_type": "markdown",
   "metadata": {
    "application/vnd.databricks.v1+cell": {
     "cellMetadata": {
      "byteLimit": 2048000,
      "rowLimit": 10000
     },
     "inputWidgets": {},
     "nuid": "9b316ed9-a6cf-4177-addf-8ae7ad433468",
     "showTitle": false,
     "title": ""
    }
   },
   "source": [
    "\n",
    "## Data querying"
   ]
  },
  {
   "cell_type": "markdown",
   "metadata": {
    "application/vnd.databricks.v1+cell": {
     "cellMetadata": {
      "byteLimit": 2048000,
      "rowLimit": 10000
     },
     "inputWidgets": {},
     "nuid": "2047708d-cb4f-44de-bc1d-5adaf12d8b02",
     "showTitle": false,
     "title": ""
    }
   },
   "source": [
    "#### 1. What are the most popular Pinterest category people post to based on their country?"
   ]
  },
  {
   "cell_type": "code",
   "execution_count": null,
   "metadata": {
    "application/vnd.databricks.v1+cell": {
     "cellMetadata": {
      "byteLimit": 2048000,
      "rowLimit": 10000
     },
     "inputWidgets": {},
     "nuid": "84d24be7-8273-4964-9c01-cfd410bf4bee",
     "showTitle": false,
     "title": ""
    }
   },
   "outputs": [
    {
     "data": {
      "text/html": [
       "<style scoped>\n",
       "  .ansiout {\n",
       "    display: block;\n",
       "    unicode-bidi: embed;\n",
       "    white-space: pre-wrap;\n",
       "    word-wrap: break-word;\n",
       "    word-break: break-all;\n",
       "    font-family: \"Menlo\", \"Monaco\", \"Consolas\", \"Ubuntu Mono\", \"Source Code Pro\", monospace;\n",
       "    font-size: 13px;\n",
       "    color: #555;\n",
       "    margin-left: 4px;\n",
       "    line-height: 19px;\n",
       "  }\n",
       "</style>\n",
       "<div class=\"ansiout\"></div>"
      ]
     },
     "metadata": {
      "application/vnd.databricks.v1+output": {
       "addedWidgets": {},
       "arguments": {},
       "data": "<div class=\"ansiout\"></div>",
       "datasetInfos": [],
       "metadata": {},
       "removedWidgets": [],
       "type": "html"
      }
     },
     "output_type": "display_data"
    }
   ],
   "source": [
    "import pyspark.sql.functions as F\n",
    "\n",
    "df_joined = df_pin.join(df_geo, df_pin['ind'] == df_geo['ind'], how = 'inner')"
   ]
  },
  {
   "cell_type": "code",
   "execution_count": null,
   "metadata": {
    "application/vnd.databricks.v1+cell": {
     "cellMetadata": {
      "byteLimit": 2048000,
      "rowLimit": 10000
     },
     "inputWidgets": {},
     "nuid": "f4d81aae-2fb1-459b-883a-1292b67ce356",
     "showTitle": false,
     "title": ""
    }
   },
   "outputs": [
    {
     "data": {
      "text/html": [
       "<style scoped>\n",
       "  .table-result-container {\n",
       "    max-height: 300px;\n",
       "    overflow: auto;\n",
       "  }\n",
       "  table, th, td {\n",
       "    border: 1px solid black;\n",
       "    border-collapse: collapse;\n",
       "  }\n",
       "  th, td {\n",
       "    padding: 5px;\n",
       "  }\n",
       "  th {\n",
       "    text-align: left;\n",
       "  }\n",
       "</style><div class='table-result-container'><table class='table-result'><thead style='background-color: white'><tr><th>country</th><th>category</th><th>category_count</th></tr></thead><tbody><tr><td>Afghanistan</td><td>education</td><td>3</td></tr><tr><td>Albania</td><td>art</td><td>2</td></tr><tr><td>Albania</td><td>mens-fashion</td><td>2</td></tr><tr><td>Albania</td><td>beauty</td><td>2</td></tr><tr><td>Algeria</td><td>quotes</td><td>6</td></tr><tr><td>American Samoa</td><td>beauty</td><td>2</td></tr><tr><td>American Samoa</td><td>education</td><td>2</td></tr><tr><td>American Samoa</td><td>tattoos</td><td>2</td></tr><tr><td>Andorra</td><td>quotes</td><td>2</td></tr><tr><td>Angola</td><td>diy-and-crafts</td><td>2</td></tr><tr><td>Anguilla</td><td>diy-and-crafts</td><td>2</td></tr><tr><td>Antarctica (the territory South of 60 deg S)</td><td>beauty</td><td>1</td></tr><tr><td>Antarctica (the territory South of 60 deg S)</td><td>finance</td><td>1</td></tr><tr><td>Antarctica (the territory South of 60 deg S)</td><td>christmas</td><td>1</td></tr><tr><td>Antigua and Barbuda</td><td>art</td><td>3</td></tr><tr><td>Argentina</td><td>tattoos</td><td>2</td></tr><tr><td>Armenia</td><td>diy-and-crafts</td><td>2</td></tr><tr><td>Aruba</td><td>mens-fashion</td><td>2</td></tr><tr><td>Aruba</td><td>christmas</td><td>2</td></tr><tr><td>Aruba</td><td>education</td><td>2</td></tr><tr><td>Australia</td><td>mens-fashion</td><td>2</td></tr><tr><td>Austria</td><td>travel</td><td>2</td></tr><tr><td>Austria</td><td>home-decor</td><td>2</td></tr><tr><td>Azerbaijan</td><td>finance</td><td>1</td></tr><tr><td>Azerbaijan</td><td>event-planning</td><td>1</td></tr><tr><td>Bahamas</td><td>vehicles</td><td>1</td></tr><tr><td>Bahamas</td><td>travel</td><td>1</td></tr><tr><td>Bahamas</td><td>event-planning</td><td>1</td></tr><tr><td>Bahrain</td><td>finance</td><td>1</td></tr><tr><td>Bangladesh</td><td>art</td><td>2</td></tr><tr><td>Bangladesh</td><td>home-decor</td><td>2</td></tr><tr><td>Barbados</td><td>education</td><td>2</td></tr><tr><td>Belize</td><td>diy-and-crafts</td><td>1</td></tr><tr><td>Benin</td><td>travel</td><td>1</td></tr><tr><td>Benin</td><td>tattoos</td><td>1</td></tr><tr><td>Bermuda</td><td>christmas</td><td>1</td></tr><tr><td>Bermuda</td><td>diy-and-crafts</td><td>1</td></tr><tr><td>Bhutan</td><td>event-planning</td><td>1</td></tr><tr><td>Bhutan</td><td>diy-and-crafts</td><td>1</td></tr><tr><td>Bolivia</td><td>home-decor</td><td>1</td></tr><tr><td>Bolivia</td><td>beauty</td><td>1</td></tr><tr><td>Botswana</td><td>tattoos</td><td>1</td></tr><tr><td>Bouvet Island (Bouvetoya)</td><td>home-decor</td><td>1</td></tr><tr><td>Bouvet Island (Bouvetoya)</td><td>tattoos</td><td>1</td></tr><tr><td>Brazil</td><td>christmas</td><td>1</td></tr><tr><td>British Virgin Islands</td><td>education</td><td>1</td></tr><tr><td>British Virgin Islands</td><td>christmas</td><td>1</td></tr><tr><td>Bulgaria</td><td>christmas</td><td>1</td></tr><tr><td>Bulgaria</td><td>finance</td><td>1</td></tr><tr><td>Burkina Faso</td><td>quotes</td><td>1</td></tr><tr><td>Cambodia</td><td>diy-and-crafts</td><td>1</td></tr><tr><td>Cameroon</td><td>art</td><td>1</td></tr><tr><td>Canada</td><td>travel</td><td>1</td></tr><tr><td>Canada</td><td>christmas</td><td>1</td></tr><tr><td>Cape Verde</td><td>home-decor</td><td>1</td></tr><tr><td>Cape Verde</td><td>diy-and-crafts</td><td>1</td></tr><tr><td>Cayman Islands</td><td>travel</td><td>1</td></tr><tr><td>Central African Republic</td><td>christmas</td><td>1</td></tr><tr><td>Central African Republic</td><td>travel</td><td>1</td></tr><tr><td>Chile</td><td>quotes</td><td>1</td></tr><tr><td>Christmas Island</td><td>vehicles</td><td>1</td></tr><tr><td>Christmas Island</td><td>travel</td><td>1</td></tr><tr><td>Christmas Island</td><td>christmas</td><td>1</td></tr><tr><td>Cocos (Keeling) Islands</td><td>vehicles</td><td>1</td></tr><tr><td>Colombia</td><td>finance</td><td>2</td></tr><tr><td>Comoros</td><td>education</td><td>1</td></tr><tr><td>Comoros</td><td>quotes</td><td>1</td></tr><tr><td>Congo</td><td>art</td><td>1</td></tr><tr><td>Cote d'Ivoire</td><td>finance</td><td>1</td></tr><tr><td>Cote d'Ivoire</td><td>education</td><td>1</td></tr><tr><td>Cote d'Ivoire</td><td>diy-and-crafts</td><td>1</td></tr><tr><td>Croatia</td><td>finance</td><td>1</td></tr><tr><td>Cuba</td><td>mens-fashion</td><td>1</td></tr><tr><td>Cuba</td><td>home-decor</td><td>1</td></tr><tr><td>Cyprus</td><td>home-decor</td><td>1</td></tr><tr><td>Czech Republic</td><td>event-planning</td><td>1</td></tr><tr><td>Denmark</td><td>beauty</td><td>1</td></tr><tr><td>Djibouti</td><td>diy-and-crafts</td><td>1</td></tr><tr><td>Dominica</td><td>diy-and-crafts</td><td>1</td></tr><tr><td>Dominica</td><td>event-planning</td><td>1</td></tr><tr><td>Dominican Republic</td><td>travel</td><td>1</td></tr><tr><td>Ecuador</td><td>mens-fashion</td><td>2</td></tr><tr><td>Egypt</td><td>home-decor</td><td>1</td></tr><tr><td>Egypt</td><td>quotes</td><td>1</td></tr><tr><td>Egypt</td><td>diy-and-crafts</td><td>1</td></tr><tr><td>El Salvador</td><td>event-planning</td><td>1</td></tr><tr><td>Equatorial Guinea</td><td>travel</td><td>1</td></tr><tr><td>Estonia</td><td>christmas</td><td>1</td></tr><tr><td>Faroe Islands</td><td>finance</td><td>1</td></tr><tr><td>Faroe Islands</td><td>tattoos</td><td>1</td></tr><tr><td>Finland</td><td>beauty</td><td>1</td></tr><tr><td>Finland</td><td>vehicles</td><td>1</td></tr><tr><td>Finland</td><td>finance</td><td>1</td></tr><tr><td>French Guiana</td><td>quotes</td><td>1</td></tr><tr><td>French Guiana</td><td>education</td><td>1</td></tr><tr><td>French Southern Territories</td><td>home-decor</td><td>1</td></tr><tr><td>Georgia</td><td>education</td><td>1</td></tr><tr><td>Germany</td><td>finance</td><td>1</td></tr><tr><td>Germany</td><td>event-planning</td><td>1</td></tr><tr><td>Ghana</td><td>beauty</td><td>1</td></tr><tr><td>Gibraltar</td><td>vehicles</td><td>1</td></tr><tr><td>Gibraltar</td><td>art</td><td>1</td></tr><tr><td>Grenada</td><td>vehicles</td><td>1</td></tr><tr><td>Grenada</td><td>finance</td><td>1</td></tr><tr><td>Guadeloupe</td><td>home-decor</td><td>1</td></tr><tr><td>Guam</td><td>travel</td><td>1</td></tr><tr><td>Guatemala</td><td>finance</td><td>1</td></tr><tr><td>Guatemala</td><td>art</td><td>1</td></tr><tr><td>Guinea</td><td>christmas</td><td>1</td></tr><tr><td>Guinea-Bissau</td><td>tattoos</td><td>1</td></tr><tr><td>Holy See (Vatican City State)</td><td>mens-fashion</td><td>1</td></tr><tr><td>Hungary</td><td>event-planning</td><td>1</td></tr><tr><td>India</td><td>travel</td><td>1</td></tr><tr><td>Indonesia</td><td>finance</td><td>1</td></tr><tr><td>Ireland</td><td>home-decor</td><td>1</td></tr><tr><td>Isle of Man</td><td>art</td><td>2</td></tr><tr><td>Israel</td><td>quotes</td><td>1</td></tr><tr><td>Jamaica</td><td>vehicles</td><td>1</td></tr><tr><td>Jamaica</td><td>finance</td><td>1</td></tr><tr><td>Kenya</td><td>diy-and-crafts</td><td>1</td></tr><tr><td>Kuwait</td><td>quotes</td><td>1</td></tr><tr><td>Kuwait</td><td>diy-and-crafts</td><td>1</td></tr><tr><td>Latvia</td><td>beauty</td><td>1</td></tr><tr><td>Lesotho</td><td>art</td><td>1</td></tr><tr><td>Libyan Arab Jamahiriya</td><td>christmas</td><td>1</td></tr><tr><td>Lithuania</td><td>education</td><td>1</td></tr><tr><td>Macao</td><td>mens-fashion</td><td>1</td></tr><tr><td>Macedonia</td><td>tattoos</td><td>1</td></tr><tr><td>Madagascar</td><td>event-planning</td><td>1</td></tr><tr><td>Malawi</td><td>travel</td><td>1</td></tr><tr><td>Maldives</td><td>beauty</td><td>1</td></tr><tr><td>Maldives</td><td>finance</td><td>1</td></tr><tr><td>Mali</td><td>christmas</td><td>1</td></tr><tr><td>Marshall Islands</td><td>home-decor</td><td>1</td></tr><tr><td>Martinique</td><td>quotes</td><td>1</td></tr><tr><td>Mauritania</td><td>education</td><td>1</td></tr><tr><td>Moldova</td><td>beauty</td><td>1</td></tr><tr><td>Monaco</td><td>art</td><td>1</td></tr><tr><td>Montserrat</td><td>art</td><td>1</td></tr><tr><td>Morocco</td><td>quotes</td><td>1</td></tr><tr><td>Mozambique</td><td>home-decor</td><td>1</td></tr><tr><td>Mozambique</td><td>art</td><td>1</td></tr><tr><td>Namibia</td><td>quotes</td><td>1</td></tr><tr><td>Namibia</td><td>event-planning</td><td>1</td></tr><tr><td>Netherlands</td><td>home-decor</td><td>1</td></tr><tr><td>Netherlands Antilles</td><td>art</td><td>1</td></tr><tr><td>New Caledonia</td><td>mens-fashion</td><td>1</td></tr><tr><td>New Caledonia</td><td>art</td><td>1</td></tr><tr><td>New Zealand</td><td>tattoos</td><td>1</td></tr><tr><td>Nicaragua</td><td>vehicles</td><td>1</td></tr><tr><td>Norway</td><td>travel</td><td>1</td></tr><tr><td>Panama</td><td>travel</td><td>1</td></tr><tr><td>Papua New Guinea</td><td>quotes</td><td>1</td></tr><tr><td>Philippines</td><td>event-planning</td><td>1</td></tr><tr><td>Pitcairn Islands</td><td>diy-and-crafts</td><td>1</td></tr><tr><td>Poland</td><td>event-planning</td><td>1</td></tr><tr><td>Portugal</td><td>diy-and-crafts</td><td>1</td></tr><tr><td>Puerto Rico</td><td>event-planning</td><td>1</td></tr><tr><td>Romania</td><td>art</td><td>1</td></tr><tr><td>Saint Barthelemy</td><td>mens-fashion</td><td>1</td></tr><tr><td>Saint Barthelemy</td><td>education</td><td>1</td></tr><tr><td>Saint Helena</td><td>beauty</td><td>1</td></tr><tr><td>Saint Kitts and Nevis</td><td>vehicles</td><td>1</td></tr><tr><td>Saint Pierre and Miquelon</td><td>mens-fashion</td><td>1</td></tr><tr><td>Saint Vincent and the Grenadines</td><td>christmas</td><td>1</td></tr><tr><td>Samoa</td><td>vehicles</td><td>1</td></tr><tr><td>Sao Tome and Principe</td><td>tattoos</td><td>1</td></tr><tr><td>Sao Tome and Principe</td><td>finance</td><td>1</td></tr><tr><td>Serbia</td><td>travel</td><td>1</td></tr><tr><td>Seychelles</td><td>tattoos</td><td>1</td></tr><tr><td>Seychelles</td><td>beauty</td><td>1</td></tr><tr><td>Solomon Islands</td><td>mens-fashion</td><td>1</td></tr><tr><td>Solomon Islands</td><td>art</td><td>1</td></tr><tr><td>Solomon Islands</td><td>vehicles</td><td>1</td></tr><tr><td>Somalia</td><td>quotes</td><td>1</td></tr><tr><td>South Africa</td><td>vehicles</td><td>1</td></tr><tr><td>Sudan</td><td>art</td><td>1</td></tr><tr><td>Sudan</td><td>mens-fashion</td><td>1</td></tr><tr><td>Tanzania</td><td>art</td><td>1</td></tr><tr><td>Togo</td><td>christmas</td><td>1</td></tr><tr><td>Tonga</td><td>beauty</td><td>1</td></tr><tr><td>Trinidad and Tobago</td><td>christmas</td><td>1</td></tr><tr><td>Tunisia</td><td>diy-and-crafts</td><td>1</td></tr><tr><td>Turkey</td><td>education</td><td>1</td></tr><tr><td>Turkmenistan</td><td>travel</td><td>1</td></tr><tr><td>Tuvalu</td><td>tattoos</td><td>1</td></tr><tr><td>Venezuela</td><td>diy-and-crafts</td><td>1</td></tr><tr><td>Vietnam</td><td>quotes</td><td>1</td></tr><tr><td>Wallis and Futuna</td><td>home-decor</td><td>1</td></tr></tbody></table></div>"
      ]
     },
     "metadata": {
      "application/vnd.databricks.v1+output": {
       "addedWidgets": {},
       "aggData": [],
       "aggError": "",
       "aggOverflow": false,
       "aggSchema": [],
       "aggSeriesLimitReached": false,
       "aggType": "",
       "arguments": {},
       "columnCustomDisplayInfos": {},
       "data": [
        [
         "Afghanistan",
         "education",
         3
        ],
        [
         "Albania",
         "art",
         2
        ],
        [
         "Albania",
         "mens-fashion",
         2
        ],
        [
         "Albania",
         "beauty",
         2
        ],
        [
         "Algeria",
         "quotes",
         6
        ],
        [
         "American Samoa",
         "beauty",
         2
        ],
        [
         "American Samoa",
         "education",
         2
        ],
        [
         "American Samoa",
         "tattoos",
         2
        ],
        [
         "Andorra",
         "quotes",
         2
        ],
        [
         "Angola",
         "diy-and-crafts",
         2
        ],
        [
         "Anguilla",
         "diy-and-crafts",
         2
        ],
        [
         "Antarctica (the territory South of 60 deg S)",
         "beauty",
         1
        ],
        [
         "Antarctica (the territory South of 60 deg S)",
         "finance",
         1
        ],
        [
         "Antarctica (the territory South of 60 deg S)",
         "christmas",
         1
        ],
        [
         "Antigua and Barbuda",
         "art",
         3
        ],
        [
         "Argentina",
         "tattoos",
         2
        ],
        [
         "Armenia",
         "diy-and-crafts",
         2
        ],
        [
         "Aruba",
         "mens-fashion",
         2
        ],
        [
         "Aruba",
         "christmas",
         2
        ],
        [
         "Aruba",
         "education",
         2
        ],
        [
         "Australia",
         "mens-fashion",
         2
        ],
        [
         "Austria",
         "travel",
         2
        ],
        [
         "Austria",
         "home-decor",
         2
        ],
        [
         "Azerbaijan",
         "finance",
         1
        ],
        [
         "Azerbaijan",
         "event-planning",
         1
        ],
        [
         "Bahamas",
         "vehicles",
         1
        ],
        [
         "Bahamas",
         "travel",
         1
        ],
        [
         "Bahamas",
         "event-planning",
         1
        ],
        [
         "Bahrain",
         "finance",
         1
        ],
        [
         "Bangladesh",
         "art",
         2
        ],
        [
         "Bangladesh",
         "home-decor",
         2
        ],
        [
         "Barbados",
         "education",
         2
        ],
        [
         "Belize",
         "diy-and-crafts",
         1
        ],
        [
         "Benin",
         "travel",
         1
        ],
        [
         "Benin",
         "tattoos",
         1
        ],
        [
         "Bermuda",
         "christmas",
         1
        ],
        [
         "Bermuda",
         "diy-and-crafts",
         1
        ],
        [
         "Bhutan",
         "event-planning",
         1
        ],
        [
         "Bhutan",
         "diy-and-crafts",
         1
        ],
        [
         "Bolivia",
         "home-decor",
         1
        ],
        [
         "Bolivia",
         "beauty",
         1
        ],
        [
         "Botswana",
         "tattoos",
         1
        ],
        [
         "Bouvet Island (Bouvetoya)",
         "home-decor",
         1
        ],
        [
         "Bouvet Island (Bouvetoya)",
         "tattoos",
         1
        ],
        [
         "Brazil",
         "christmas",
         1
        ],
        [
         "British Virgin Islands",
         "education",
         1
        ],
        [
         "British Virgin Islands",
         "christmas",
         1
        ],
        [
         "Bulgaria",
         "christmas",
         1
        ],
        [
         "Bulgaria",
         "finance",
         1
        ],
        [
         "Burkina Faso",
         "quotes",
         1
        ],
        [
         "Cambodia",
         "diy-and-crafts",
         1
        ],
        [
         "Cameroon",
         "art",
         1
        ],
        [
         "Canada",
         "travel",
         1
        ],
        [
         "Canada",
         "christmas",
         1
        ],
        [
         "Cape Verde",
         "home-decor",
         1
        ],
        [
         "Cape Verde",
         "diy-and-crafts",
         1
        ],
        [
         "Cayman Islands",
         "travel",
         1
        ],
        [
         "Central African Republic",
         "christmas",
         1
        ],
        [
         "Central African Republic",
         "travel",
         1
        ],
        [
         "Chile",
         "quotes",
         1
        ],
        [
         "Christmas Island",
         "vehicles",
         1
        ],
        [
         "Christmas Island",
         "travel",
         1
        ],
        [
         "Christmas Island",
         "christmas",
         1
        ],
        [
         "Cocos (Keeling) Islands",
         "vehicles",
         1
        ],
        [
         "Colombia",
         "finance",
         2
        ],
        [
         "Comoros",
         "education",
         1
        ],
        [
         "Comoros",
         "quotes",
         1
        ],
        [
         "Congo",
         "art",
         1
        ],
        [
         "Cote d'Ivoire",
         "finance",
         1
        ],
        [
         "Cote d'Ivoire",
         "education",
         1
        ],
        [
         "Cote d'Ivoire",
         "diy-and-crafts",
         1
        ],
        [
         "Croatia",
         "finance",
         1
        ],
        [
         "Cuba",
         "mens-fashion",
         1
        ],
        [
         "Cuba",
         "home-decor",
         1
        ],
        [
         "Cyprus",
         "home-decor",
         1
        ],
        [
         "Czech Republic",
         "event-planning",
         1
        ],
        [
         "Denmark",
         "beauty",
         1
        ],
        [
         "Djibouti",
         "diy-and-crafts",
         1
        ],
        [
         "Dominica",
         "diy-and-crafts",
         1
        ],
        [
         "Dominica",
         "event-planning",
         1
        ],
        [
         "Dominican Republic",
         "travel",
         1
        ],
        [
         "Ecuador",
         "mens-fashion",
         2
        ],
        [
         "Egypt",
         "home-decor",
         1
        ],
        [
         "Egypt",
         "quotes",
         1
        ],
        [
         "Egypt",
         "diy-and-crafts",
         1
        ],
        [
         "El Salvador",
         "event-planning",
         1
        ],
        [
         "Equatorial Guinea",
         "travel",
         1
        ],
        [
         "Estonia",
         "christmas",
         1
        ],
        [
         "Faroe Islands",
         "finance",
         1
        ],
        [
         "Faroe Islands",
         "tattoos",
         1
        ],
        [
         "Finland",
         "beauty",
         1
        ],
        [
         "Finland",
         "vehicles",
         1
        ],
        [
         "Finland",
         "finance",
         1
        ],
        [
         "French Guiana",
         "quotes",
         1
        ],
        [
         "French Guiana",
         "education",
         1
        ],
        [
         "French Southern Territories",
         "home-decor",
         1
        ],
        [
         "Georgia",
         "education",
         1
        ],
        [
         "Germany",
         "finance",
         1
        ],
        [
         "Germany",
         "event-planning",
         1
        ],
        [
         "Ghana",
         "beauty",
         1
        ],
        [
         "Gibraltar",
         "vehicles",
         1
        ],
        [
         "Gibraltar",
         "art",
         1
        ],
        [
         "Grenada",
         "vehicles",
         1
        ],
        [
         "Grenada",
         "finance",
         1
        ],
        [
         "Guadeloupe",
         "home-decor",
         1
        ],
        [
         "Guam",
         "travel",
         1
        ],
        [
         "Guatemala",
         "finance",
         1
        ],
        [
         "Guatemala",
         "art",
         1
        ],
        [
         "Guinea",
         "christmas",
         1
        ],
        [
         "Guinea-Bissau",
         "tattoos",
         1
        ],
        [
         "Holy See (Vatican City State)",
         "mens-fashion",
         1
        ],
        [
         "Hungary",
         "event-planning",
         1
        ],
        [
         "India",
         "travel",
         1
        ],
        [
         "Indonesia",
         "finance",
         1
        ],
        [
         "Ireland",
         "home-decor",
         1
        ],
        [
         "Isle of Man",
         "art",
         2
        ],
        [
         "Israel",
         "quotes",
         1
        ],
        [
         "Jamaica",
         "vehicles",
         1
        ],
        [
         "Jamaica",
         "finance",
         1
        ],
        [
         "Kenya",
         "diy-and-crafts",
         1
        ],
        [
         "Kuwait",
         "quotes",
         1
        ],
        [
         "Kuwait",
         "diy-and-crafts",
         1
        ],
        [
         "Latvia",
         "beauty",
         1
        ],
        [
         "Lesotho",
         "art",
         1
        ],
        [
         "Libyan Arab Jamahiriya",
         "christmas",
         1
        ],
        [
         "Lithuania",
         "education",
         1
        ],
        [
         "Macao",
         "mens-fashion",
         1
        ],
        [
         "Macedonia",
         "tattoos",
         1
        ],
        [
         "Madagascar",
         "event-planning",
         1
        ],
        [
         "Malawi",
         "travel",
         1
        ],
        [
         "Maldives",
         "beauty",
         1
        ],
        [
         "Maldives",
         "finance",
         1
        ],
        [
         "Mali",
         "christmas",
         1
        ],
        [
         "Marshall Islands",
         "home-decor",
         1
        ],
        [
         "Martinique",
         "quotes",
         1
        ],
        [
         "Mauritania",
         "education",
         1
        ],
        [
         "Moldova",
         "beauty",
         1
        ],
        [
         "Monaco",
         "art",
         1
        ],
        [
         "Montserrat",
         "art",
         1
        ],
        [
         "Morocco",
         "quotes",
         1
        ],
        [
         "Mozambique",
         "home-decor",
         1
        ],
        [
         "Mozambique",
         "art",
         1
        ],
        [
         "Namibia",
         "quotes",
         1
        ],
        [
         "Namibia",
         "event-planning",
         1
        ],
        [
         "Netherlands",
         "home-decor",
         1
        ],
        [
         "Netherlands Antilles",
         "art",
         1
        ],
        [
         "New Caledonia",
         "mens-fashion",
         1
        ],
        [
         "New Caledonia",
         "art",
         1
        ],
        [
         "New Zealand",
         "tattoos",
         1
        ],
        [
         "Nicaragua",
         "vehicles",
         1
        ],
        [
         "Norway",
         "travel",
         1
        ],
        [
         "Panama",
         "travel",
         1
        ],
        [
         "Papua New Guinea",
         "quotes",
         1
        ],
        [
         "Philippines",
         "event-planning",
         1
        ],
        [
         "Pitcairn Islands",
         "diy-and-crafts",
         1
        ],
        [
         "Poland",
         "event-planning",
         1
        ],
        [
         "Portugal",
         "diy-and-crafts",
         1
        ],
        [
         "Puerto Rico",
         "event-planning",
         1
        ],
        [
         "Romania",
         "art",
         1
        ],
        [
         "Saint Barthelemy",
         "mens-fashion",
         1
        ],
        [
         "Saint Barthelemy",
         "education",
         1
        ],
        [
         "Saint Helena",
         "beauty",
         1
        ],
        [
         "Saint Kitts and Nevis",
         "vehicles",
         1
        ],
        [
         "Saint Pierre and Miquelon",
         "mens-fashion",
         1
        ],
        [
         "Saint Vincent and the Grenadines",
         "christmas",
         1
        ],
        [
         "Samoa",
         "vehicles",
         1
        ],
        [
         "Sao Tome and Principe",
         "tattoos",
         1
        ],
        [
         "Sao Tome and Principe",
         "finance",
         1
        ],
        [
         "Serbia",
         "travel",
         1
        ],
        [
         "Seychelles",
         "tattoos",
         1
        ],
        [
         "Seychelles",
         "beauty",
         1
        ],
        [
         "Solomon Islands",
         "mens-fashion",
         1
        ],
        [
         "Solomon Islands",
         "art",
         1
        ],
        [
         "Solomon Islands",
         "vehicles",
         1
        ],
        [
         "Somalia",
         "quotes",
         1
        ],
        [
         "South Africa",
         "vehicles",
         1
        ],
        [
         "Sudan",
         "art",
         1
        ],
        [
         "Sudan",
         "mens-fashion",
         1
        ],
        [
         "Tanzania",
         "art",
         1
        ],
        [
         "Togo",
         "christmas",
         1
        ],
        [
         "Tonga",
         "beauty",
         1
        ],
        [
         "Trinidad and Tobago",
         "christmas",
         1
        ],
        [
         "Tunisia",
         "diy-and-crafts",
         1
        ],
        [
         "Turkey",
         "education",
         1
        ],
        [
         "Turkmenistan",
         "travel",
         1
        ],
        [
         "Tuvalu",
         "tattoos",
         1
        ],
        [
         "Venezuela",
         "diy-and-crafts",
         1
        ],
        [
         "Vietnam",
         "quotes",
         1
        ],
        [
         "Wallis and Futuna",
         "home-decor",
         1
        ]
       ],
       "datasetInfos": [],
       "dbfsResultPath": null,
       "isJsonSchema": true,
       "metadata": {},
       "overflow": false,
       "plotOptions": {
        "customPlotOptions": {},
        "displayType": "table",
        "pivotAggregation": null,
        "pivotColumns": null,
        "xColumns": null,
        "yColumns": null
       },
       "removedWidgets": [],
       "schema": [
        {
         "metadata": "{}",
         "name": "country",
         "type": "\"string\""
        },
        {
         "metadata": "{}",
         "name": "category",
         "type": "\"string\""
        },
        {
         "metadata": "{}",
         "name": "category_count",
         "type": "\"long\""
        }
       ],
       "type": "table"
      }
     },
     "output_type": "display_data"
    }
   ],
   "source": [
    "q1_temp = df_joined.groupBy('country','category')\\\n",
    "              .agg(count(\"category\")\\\n",
    "              .alias(\"category_count\"))\\\n",
    "              .orderBy(['category_count'], ascending=False)\n",
    "w = Window.partitionBy('country')\n",
    "q1 = q1_temp.withColumn('max_count', F.max('category_count').over(w))\\\n",
    "           .where(F.col('category_count') == F.col('max_count'))\\\n",
    "           .drop('max_count')\n",
    "display(q1)"
   ]
  },
  {
   "cell_type": "markdown",
   "metadata": {
    "application/vnd.databricks.v1+cell": {
     "cellMetadata": {
      "byteLimit": 2048000,
      "rowLimit": 10000
     },
     "inputWidgets": {},
     "nuid": "c0b4e0d7-f0d7-4617-a5a5-36b853353433",
     "showTitle": false,
     "title": ""
    }
   },
   "source": [
    "#### 2. How many posts each category had between 2018 and 2022?"
   ]
  },
  {
   "cell_type": "code",
   "execution_count": null,
   "metadata": {
    "application/vnd.databricks.v1+cell": {
     "cellMetadata": {
      "byteLimit": 2048000,
      "rowLimit": 10000
     },
     "inputWidgets": {},
     "nuid": "8d3b2064-3ddc-4283-9c2a-70f139639506",
     "showTitle": false,
     "title": ""
    }
   },
   "outputs": [
    {
     "data": {
      "text/html": [
       "<style scoped>\n",
       "  .table-result-container {\n",
       "    max-height: 300px;\n",
       "    overflow: auto;\n",
       "  }\n",
       "  table, th, td {\n",
       "    border: 1px solid black;\n",
       "    border-collapse: collapse;\n",
       "  }\n",
       "  th, td {\n",
       "    padding: 5px;\n",
       "  }\n",
       "  th {\n",
       "    text-align: left;\n",
       "  }\n",
       "</style><div class='table-result-container'><table class='table-result'><thead style='background-color: white'><tr><th>post_year</th><th>category</th><th>category_count</th></tr></thead><tbody><tr><td>2022</td><td>beauty</td><td>8</td></tr><tr><td>2022</td><td>christmas</td><td>7</td></tr><tr><td>2022</td><td>quotes</td><td>6</td></tr><tr><td>2022</td><td>diy-and-crafts</td><td>5</td></tr><tr><td>2022</td><td>tattoos</td><td>4</td></tr><tr><td>2022</td><td>mens-fashion</td><td>4</td></tr><tr><td>2022</td><td>home-decor</td><td>4</td></tr><tr><td>2022</td><td>art</td><td>3</td></tr><tr><td>2022</td><td>vehicles</td><td>3</td></tr><tr><td>2022</td><td>education</td><td>2</td></tr><tr><td>2022</td><td>finance</td><td>2</td></tr><tr><td>2022</td><td>travel</td><td>1</td></tr><tr><td>2022</td><td>event-planning</td><td>1</td></tr><tr><td>2021</td><td>finance</td><td>8</td></tr><tr><td>2021</td><td>quotes</td><td>7</td></tr><tr><td>2021</td><td>tattoos</td><td>5</td></tr><tr><td>2021</td><td>vehicles</td><td>4</td></tr><tr><td>2021</td><td>art</td><td>4</td></tr><tr><td>2021</td><td>event-planning</td><td>4</td></tr><tr><td>2021</td><td>diy-and-crafts</td><td>4</td></tr><tr><td>2021</td><td>home-decor</td><td>3</td></tr><tr><td>2021</td><td>christmas</td><td>2</td></tr><tr><td>2021</td><td>beauty</td><td>2</td></tr><tr><td>2021</td><td>education</td><td>2</td></tr><tr><td>2021</td><td>mens-fashion</td><td>2</td></tr><tr><td>2021</td><td>travel</td><td>1</td></tr><tr><td>2020</td><td>art</td><td>8</td></tr><tr><td>2020</td><td>travel</td><td>7</td></tr><tr><td>2020</td><td>finance</td><td>7</td></tr><tr><td>2020</td><td>tattoos</td><td>7</td></tr><tr><td>2020</td><td>christmas</td><td>6</td></tr><tr><td>2020</td><td>home-decor</td><td>6</td></tr><tr><td>2020</td><td>event-planning</td><td>6</td></tr><tr><td>2020</td><td>mens-fashion</td><td>5</td></tr><tr><td>2020</td><td>diy-and-crafts</td><td>5</td></tr><tr><td>2020</td><td>beauty</td><td>3</td></tr><tr><td>2020</td><td>vehicles</td><td>3</td></tr><tr><td>2020</td><td>quotes</td><td>2</td></tr><tr><td>2019</td><td>diy-and-crafts</td><td>11</td></tr><tr><td>2019</td><td>home-decor</td><td>8</td></tr><tr><td>2019</td><td>art</td><td>8</td></tr><tr><td>2019</td><td>education</td><td>7</td></tr><tr><td>2019</td><td>travel</td><td>7</td></tr><tr><td>2019</td><td>mens-fashion</td><td>6</td></tr><tr><td>2019</td><td>event-planning</td><td>5</td></tr><tr><td>2019</td><td>finance</td><td>4</td></tr><tr><td>2019</td><td>christmas</td><td>4</td></tr><tr><td>2019</td><td>vehicles</td><td>3</td></tr><tr><td>2019</td><td>quotes</td><td>3</td></tr><tr><td>2019</td><td>beauty</td><td>2</td></tr><tr><td>2019</td><td>tattoos</td><td>1</td></tr><tr><td>2018</td><td>education</td><td>9</td></tr><tr><td>2018</td><td>diy-and-crafts</td><td>7</td></tr><tr><td>2018</td><td>travel</td><td>7</td></tr><tr><td>2018</td><td>quotes</td><td>7</td></tr><tr><td>2018</td><td>art</td><td>6</td></tr><tr><td>2018</td><td>beauty</td><td>5</td></tr><tr><td>2018</td><td>mens-fashion</td><td>5</td></tr><tr><td>2018</td><td>christmas</td><td>5</td></tr><tr><td>2018</td><td>vehicles</td><td>4</td></tr><tr><td>2018</td><td>tattoos</td><td>2</td></tr><tr><td>2018</td><td>home-decor</td><td>2</td></tr><tr><td>2018</td><td>finance</td><td>1</td></tr></tbody></table></div>"
      ]
     },
     "metadata": {
      "application/vnd.databricks.v1+output": {
       "addedWidgets": {},
       "aggData": [],
       "aggError": "",
       "aggOverflow": false,
       "aggSchema": [],
       "aggSeriesLimitReached": false,
       "aggType": "",
       "arguments": {},
       "columnCustomDisplayInfos": {},
       "data": [
        [
         2022,
         "beauty",
         8
        ],
        [
         2022,
         "christmas",
         7
        ],
        [
         2022,
         "quotes",
         6
        ],
        [
         2022,
         "diy-and-crafts",
         5
        ],
        [
         2022,
         "tattoos",
         4
        ],
        [
         2022,
         "mens-fashion",
         4
        ],
        [
         2022,
         "home-decor",
         4
        ],
        [
         2022,
         "art",
         3
        ],
        [
         2022,
         "vehicles",
         3
        ],
        [
         2022,
         "education",
         2
        ],
        [
         2022,
         "finance",
         2
        ],
        [
         2022,
         "travel",
         1
        ],
        [
         2022,
         "event-planning",
         1
        ],
        [
         2021,
         "finance",
         8
        ],
        [
         2021,
         "quotes",
         7
        ],
        [
         2021,
         "tattoos",
         5
        ],
        [
         2021,
         "vehicles",
         4
        ],
        [
         2021,
         "art",
         4
        ],
        [
         2021,
         "event-planning",
         4
        ],
        [
         2021,
         "diy-and-crafts",
         4
        ],
        [
         2021,
         "home-decor",
         3
        ],
        [
         2021,
         "christmas",
         2
        ],
        [
         2021,
         "beauty",
         2
        ],
        [
         2021,
         "education",
         2
        ],
        [
         2021,
         "mens-fashion",
         2
        ],
        [
         2021,
         "travel",
         1
        ],
        [
         2020,
         "art",
         8
        ],
        [
         2020,
         "travel",
         7
        ],
        [
         2020,
         "finance",
         7
        ],
        [
         2020,
         "tattoos",
         7
        ],
        [
         2020,
         "christmas",
         6
        ],
        [
         2020,
         "home-decor",
         6
        ],
        [
         2020,
         "event-planning",
         6
        ],
        [
         2020,
         "mens-fashion",
         5
        ],
        [
         2020,
         "diy-and-crafts",
         5
        ],
        [
         2020,
         "beauty",
         3
        ],
        [
         2020,
         "vehicles",
         3
        ],
        [
         2020,
         "quotes",
         2
        ],
        [
         2019,
         "diy-and-crafts",
         11
        ],
        [
         2019,
         "home-decor",
         8
        ],
        [
         2019,
         "art",
         8
        ],
        [
         2019,
         "education",
         7
        ],
        [
         2019,
         "travel",
         7
        ],
        [
         2019,
         "mens-fashion",
         6
        ],
        [
         2019,
         "event-planning",
         5
        ],
        [
         2019,
         "finance",
         4
        ],
        [
         2019,
         "christmas",
         4
        ],
        [
         2019,
         "vehicles",
         3
        ],
        [
         2019,
         "quotes",
         3
        ],
        [
         2019,
         "beauty",
         2
        ],
        [
         2019,
         "tattoos",
         1
        ],
        [
         2018,
         "education",
         9
        ],
        [
         2018,
         "diy-and-crafts",
         7
        ],
        [
         2018,
         "travel",
         7
        ],
        [
         2018,
         "quotes",
         7
        ],
        [
         2018,
         "art",
         6
        ],
        [
         2018,
         "beauty",
         5
        ],
        [
         2018,
         "mens-fashion",
         5
        ],
        [
         2018,
         "christmas",
         5
        ],
        [
         2018,
         "vehicles",
         4
        ],
        [
         2018,
         "tattoos",
         2
        ],
        [
         2018,
         "home-decor",
         2
        ],
        [
         2018,
         "finance",
         1
        ]
       ],
       "datasetInfos": [],
       "dbfsResultPath": null,
       "isJsonSchema": true,
       "metadata": {},
       "overflow": false,
       "plotOptions": {
        "customPlotOptions": {},
        "displayType": "table",
        "pivotAggregation": null,
        "pivotColumns": null,
        "xColumns": null,
        "yColumns": null
       },
       "removedWidgets": [],
       "schema": [
        {
         "metadata": "{}",
         "name": "post_year",
         "type": "\"integer\""
        },
        {
         "metadata": "{}",
         "name": "category",
         "type": "\"string\""
        },
        {
         "metadata": "{}",
         "name": "category_count",
         "type": "\"long\""
        }
       ],
       "type": "table"
      }
     },
     "output_type": "display_data"
    }
   ],
   "source": [
    "df_joined = df_joined.withColumn('post_year', year(df_joined['timestamp']))\n",
    "q2 =   df_joined.filter(\"post_year BETWEEN '2018' AND '2022'\")\\\n",
    "                .groupBy('post_year','category')\\\n",
    "                .agg(count('*')\\\n",
    "                .alias('category_count'))\\\n",
    "                .orderBy(['post_year', 'category_count'], ascending=False)\n",
    "display(q2)"
   ]
  },
  {
   "cell_type": "markdown",
   "metadata": {
    "application/vnd.databricks.v1+cell": {
     "cellMetadata": {
      "byteLimit": 2048000,
      "rowLimit": 10000
     },
     "inputWidgets": {},
     "nuid": "0bc8c290-0a5c-4ce3-9618-cc1e37d7bd8d",
     "showTitle": false,
     "title": ""
    }
   },
   "source": [
    "#### 3. Who are the most followed users in each country? "
   ]
  },
  {
   "cell_type": "code",
   "execution_count": null,
   "metadata": {
    "application/vnd.databricks.v1+cell": {
     "cellMetadata": {
      "byteLimit": 2048000,
      "rowLimit": 10000
     },
     "inputWidgets": {},
     "nuid": "97c87426-da45-4324-8c6f-1ace5dde6414",
     "showTitle": false,
     "title": ""
    }
   },
   "outputs": [
    {
     "data": {
      "text/html": [
       "<style scoped>\n",
       "  .ansiout {\n",
       "    display: block;\n",
       "    unicode-bidi: embed;\n",
       "    white-space: pre-wrap;\n",
       "    word-wrap: break-word;\n",
       "    word-break: break-all;\n",
       "    font-family: \"Menlo\", \"Monaco\", \"Consolas\", \"Ubuntu Mono\", \"Source Code Pro\", monospace;\n",
       "    font-size: 13px;\n",
       "    color: #555;\n",
       "    margin-left: 4px;\n",
       "    line-height: 19px;\n",
       "  }\n",
       "</style>\n",
       "<div class=\"ansiout\"></div>"
      ]
     },
     "metadata": {
      "application/vnd.databricks.v1+output": {
       "addedWidgets": {},
       "arguments": {},
       "data": "<div class=\"ansiout\"></div>",
       "datasetInfos": [],
       "metadata": {},
       "removedWidgets": [],
       "type": "html"
      }
     },
     "output_type": "display_data"
    }
   ],
   "source": [
    "df_joined = df_pin.join(df_geo, df_pin['ind'] == df_geo['ind'], how = 'inner')\\\n",
    "                  .join(df_user, df_pin['ind'] == df_user['ind'], how = 'inner')\n",
    "df_joined = df_joined.dropDuplicates(df_joined.columns)"
   ]
  },
  {
   "cell_type": "code",
   "execution_count": null,
   "metadata": {
    "application/vnd.databricks.v1+cell": {
     "cellMetadata": {
      "byteLimit": 2048000,
      "rowLimit": 10000
     },
     "inputWidgets": {},
     "nuid": "b28f4734-1e6b-4bbb-8cb8-5ff23ec78eb0",
     "showTitle": false,
     "title": ""
    }
   },
   "outputs": [
    {
     "data": {
      "text/html": [
       "<style scoped>\n",
       "  .table-result-container {\n",
       "    max-height: 300px;\n",
       "    overflow: auto;\n",
       "  }\n",
       "  table, th, td {\n",
       "    border: 1px solid black;\n",
       "    border-collapse: collapse;\n",
       "  }\n",
       "  th, td {\n",
       "    padding: 5px;\n",
       "  }\n",
       "  th {\n",
       "    text-align: left;\n",
       "  }\n",
       "</style><div class='table-result-container'><table class='table-result'><thead style='background-color: white'><tr><th>country</th><th>user_name</th><th>follower_count</th></tr></thead><tbody><tr><td>Afghanistan</td><td>Amanda Carlson</td><td>3000000</td></tr><tr><td>Albania</td><td>Aaron Anderson</td><td>5000000</td></tr><tr><td>Algeria</td><td>Aaron Abbott</td><td>942000</td></tr><tr><td>American Samoa</td><td>Abigail Bates</td><td>8000000</td></tr><tr><td>Andorra</td><td>Alison Bell</td><td>1000000</td></tr><tr><td>Angola</td><td>April Brown</td><td>8000000</td></tr><tr><td>Anguilla</td><td>Corey Andrews</td><td>92000</td></tr><tr><td>Antarctica (the territory South of 60 deg S)</td><td>Benjamin Campbell</td><td>1000000</td></tr><tr><td>Antigua and Barbuda</td><td>Ann Chung</td><td>1000000</td></tr><tr><td>Argentina</td><td>Andrew Anderson</td><td>800000</td></tr><tr><td>Armenia</td><td>Andrew Baker</td><td>892000</td></tr><tr><td>Aruba</td><td>Debra Becker</td><td>874000</td></tr><tr><td>Australia</td><td>Anne Clayton</td><td>1000000</td></tr><tr><td>Austria</td><td>Alex Barnes</td><td>89000</td></tr><tr><td>Azerbaijan</td><td>Amanda Ball</td><td>6000000</td></tr><tr><td>Bahamas</td><td>Julie Cook</td><td>41000</td></tr><tr><td>Bahrain</td><td>Carlos Estrada</td><td>46000</td></tr><tr><td>Bangladesh</td><td>Brian Hansen</td><td>4000000</td></tr><tr><td>Barbados</td><td>Brett Bryant</td><td>410000</td></tr><tr><td>Belize</td><td>Charles Johnson</td><td>67000</td></tr><tr><td>Benin</td><td>April Barr</td><td>23000</td></tr><tr><td>Bermuda</td><td>David Moss</td><td>46000</td></tr><tr><td>Bhutan</td><td>Aaron Jenkins</td><td>3000</td></tr><tr><td>Bolivia</td><td>Angela Flores</td><td>67000</td></tr><tr><td>Botswana</td><td>Austin Rodriguez</td><td>4000</td></tr><tr><td>Bouvet Island (Bouvetoya)</td><td>Amy Brown</td><td>5000000</td></tr><tr><td>Brazil</td><td>James Graves</td><td>5000</td></tr><tr><td>British Virgin Islands</td><td>Alex Bean</td><td>245000</td></tr><tr><td>Bulgaria</td><td>Anthony Adkins</td><td>603000</td></tr><tr><td>Burkina Faso</td><td>Andrew Brown</td><td>7000</td></tr><tr><td>Cambodia</td><td>Robert Murphy</td><td>6000</td></tr><tr><td>Cameroon</td><td>Alfred Chen</td><td>51000</td></tr><tr><td>Canada</td><td>Brandon Cummings</td><td>142000</td></tr><tr><td>Cape Verde</td><td>Alexander Perez</td><td>178000</td></tr><tr><td>Cayman Islands</td><td>Danny Ramsey</td><td>15000</td></tr><tr><td>Central African Republic</td><td>Annette Forbes</td><td>868000</td></tr><tr><td>Chile</td><td>Nathan Stanton</td><td>19000</td></tr><tr><td>Christmas Island</td><td>Barry Lynn</td><td>3000000</td></tr><tr><td>Cocos (Keeling) Islands</td><td>Thomas Turner</td><td>437</td></tr><tr><td>Colombia</td><td>Christina Haas</td><td>152000</td></tr><tr><td>Comoros</td><td>Gary Barker</td><td>196000</td></tr><tr><td>Congo</td><td>Aimee Collins</td><td>27000</td></tr><tr><td>Cote d'Ivoire</td><td>Brian Nelson</td><td>192000</td></tr><tr><td>Croatia</td><td>Aaron Clark</td><td>17000</td></tr><tr><td>Cuba</td><td>Cindy Bennett</td><td>102000</td></tr><tr><td>Cyprus</td><td>Jason Brooks</td><td>25000</td></tr><tr><td>Czech Republic</td><td>Jacob Castro</td><td>398000</td></tr><tr><td>Denmark</td><td>Jonathan Rodriguez</td><td>36000</td></tr><tr><td>Djibouti</td><td>Jesus Arellano</td><td>130000</td></tr><tr><td>Dominica</td><td>Charles Robinson</td><td>67000</td></tr><tr><td>Dominican Republic</td><td>Kaylee Miller</td><td>3000</td></tr><tr><td>Ecuador</td><td>Amber Gray</td><td>20000</td></tr><tr><td>Egypt</td><td>Kayla Burton</td><td>9000</td></tr><tr><td>El Salvador</td><td>Nathan Howard</td><td>42000</td></tr><tr><td>Equatorial Guinea</td><td>Elizabeth English</td><td>10000</td></tr><tr><td>Estonia</td><td>Barbara Ford</td><td>6000</td></tr><tr><td>Faroe Islands</td><td>Daniel Anderson</td><td>11000</td></tr><tr><td>Finland</td><td>Heather Edwards</td><td>79000</td></tr><tr><td>French Guiana</td><td>Adrian Jackson</td><td>214000</td></tr><tr><td>French Southern Territories</td><td>Mary Luna</td><td>40000</td></tr><tr><td>Georgia</td><td>Grant George</td><td>203000</td></tr><tr><td>Germany</td><td>Calvin Atkins</td><td>10000</td></tr><tr><td>Ghana</td><td>Nancy Case</td><td>191</td></tr><tr><td>Gibraltar</td><td>Brittany Thompson</td><td>89000</td></tr><tr><td>Grenada</td><td>Linda Blackwell</td><td>9000</td></tr><tr><td>Guadeloupe</td><td>Gary Tanner</td><td>13000</td></tr><tr><td>Guam</td><td>Holly Campbell</td><td>219000</td></tr><tr><td>Guatemala</td><td>Christine Adams</td><td>85000</td></tr><tr><td>Guinea</td><td>Adam Anderson</td><td>320</td></tr><tr><td>Guinea-Bissau</td><td>Joe Pham</td><td>0</td></tr><tr><td>Holy See (Vatican City State)</td><td>Shannon Melton</td><td>831</td></tr><tr><td>Hungary</td><td>Madeline Brown</td><td>2000</td></tr><tr><td>India</td><td>Jennifer Hudson</td><td>7000</td></tr><tr><td>Indonesia</td><td>David Craig</td><td>141000</td></tr><tr><td>Ireland</td><td>Debra Morse</td><td>49000</td></tr><tr><td>Isle of Man</td><td>Jon Burke</td><td>52000</td></tr><tr><td>Israel</td><td>Samuel Hawkins</td><td>3000</td></tr><tr><td>Jamaica</td><td>Barbara Edwards</td><td>19000</td></tr><tr><td>Kenya</td><td>Crystal Schmidt</td><td>4000</td></tr><tr><td>Kuwait</td><td>Justin Singleton</td><td>63000</td></tr><tr><td>Latvia</td><td>Patricia Harvey</td><td>23000</td></tr><tr><td>Lesotho</td><td>Regina Morales</td><td>908000</td></tr><tr><td>Libyan Arab Jamahiriya</td><td>Christopher Hamilton</td><td>40000</td></tr><tr><td>Lithuania</td><td>Catherine Ferrell</td><td>10000</td></tr><tr><td>Macao</td><td>Michael Mcconnell</td><td>3000</td></tr><tr><td>Macedonia</td><td>Katrina Fischer</td><td>7000</td></tr><tr><td>Madagascar</td><td>Rhonda Durham</td><td>112000</td></tr><tr><td>Malawi</td><td>Carla Arnold</td><td>14000</td></tr><tr><td>Maldives</td><td>Daniel Roy</td><td>330000</td></tr><tr><td>Mali</td><td>Michelle Richardson</td><td>122000</td></tr><tr><td>Marshall Islands</td><td>Nicholas Hart</td><td>13000</td></tr><tr><td>Martinique</td><td>Danielle Klein</td><td>1000000</td></tr><tr><td>Mauritania</td><td>Larry Pineda</td><td>22000</td></tr><tr><td>Moldova</td><td>Jason Horne</td><td>44000</td></tr><tr><td>Monaco</td><td>Glenn Hammond</td><td>227000</td></tr><tr><td>Montserrat</td><td>Brittany Butler</td><td>4000</td></tr><tr><td>Morocco</td><td>Courtney Chung</td><td>13000</td></tr><tr><td>Mozambique</td><td>Emily Hawkins</td><td>83000</td></tr><tr><td>Namibia</td><td>Charlotte Pitts</td><td>168000</td></tr><tr><td>Netherlands</td><td>Elizabeth Green</td><td>136000</td></tr><tr><td>Netherlands Antilles</td><td>Brandon Jackson</td><td>7000</td></tr><tr><td>New Caledonia</td><td>Peter Roberts</td><td>377</td></tr><tr><td>New Zealand</td><td>Sandra Humphrey</td><td>19000</td></tr><tr><td>Nicaragua</td><td>Alexander Cervantes</td><td>9000</td></tr><tr><td>Norway</td><td>Nicole Gray</td><td>189</td></tr><tr><td>Panama</td><td>Jessica Mejia</td><td>1000</td></tr><tr><td>Papua New Guinea</td><td>Michelle Gutierrez</td><td>112</td></tr><tr><td>Philippines</td><td>Michael Carter</td><td>111</td></tr><tr><td>Pitcairn Islands</td><td>Elizabeth Terry</td><td>671000</td></tr><tr><td>Poland</td><td>John Anderson</td><td>265</td></tr><tr><td>Portugal</td><td>Eric Taylor</td><td>29000</td></tr><tr><td>Puerto Rico</td><td>Samuel Thompson</td><td>1000</td></tr><tr><td>Romania</td><td>Scott Page</td><td>3000</td></tr><tr><td>Saint Barthelemy</td><td>Gerald Davis</td><td>517</td></tr><tr><td>Saint Helena</td><td>Mindy Garrison</td><td>328</td></tr><tr><td>Saint Kitts and Nevis</td><td>Julie Cox</td><td>171000</td></tr><tr><td>Saint Pierre and Miquelon</td><td>James Keith</td><td>323</td></tr><tr><td>Saint Vincent and the Grenadines</td><td>Karina Morton</td><td>13</td></tr><tr><td>Samoa</td><td>Mark Richardson</td><td>196</td></tr><tr><td>Sao Tome and Principe</td><td>Nicholas Mcdaniel</td><td>2000</td></tr><tr><td>Serbia</td><td>Cameron Medina</td><td>78</td></tr><tr><td>Seychelles</td><td>Tammy Davis</td><td>21000</td></tr><tr><td>Solomon Islands</td><td>Cindy Morales</td><td>7000</td></tr><tr><td>Somalia</td><td>Amber Robinson</td><td>27000</td></tr><tr><td>South Africa</td><td>Stacy May</td><td>3000</td></tr><tr><td>Sudan</td><td>Cheryl Huerta</td><td>940</td></tr><tr><td>Tanzania</td><td>Sarah Buchanan</td><td>26</td></tr><tr><td>Togo</td><td>Jeremy Chase</td><td>4000</td></tr><tr><td>Tonga</td><td>Gregory Ramsey</td><td>0</td></tr><tr><td>Trinidad and Tobago</td><td>Joshua Long</td><td>254</td></tr><tr><td>Tunisia</td><td>Shawn Jones</td><td>66000</td></tr><tr><td>Turkey</td><td>Richard Edwards</td><td>9000</td></tr><tr><td>Turkmenistan</td><td>Vernon Brown</td><td>1000</td></tr><tr><td>Tuvalu</td><td>Grant Villanueva</td><td>41</td></tr><tr><td>Venezuela</td><td>Scott Houston</td><td>100000</td></tr><tr><td>Vietnam</td><td>Joseph Kelly</td><td>15000</td></tr><tr><td>Wallis and Futuna</td><td>Barry West</td><td>2000</td></tr></tbody></table></div>"
      ]
     },
     "metadata": {
      "application/vnd.databricks.v1+output": {
       "addedWidgets": {},
       "aggData": [],
       "aggError": "",
       "aggOverflow": false,
       "aggSchema": [],
       "aggSeriesLimitReached": false,
       "aggType": "",
       "arguments": {},
       "columnCustomDisplayInfos": {},
       "data": [
        [
         "Afghanistan",
         "Amanda Carlson",
         3000000
        ],
        [
         "Albania",
         "Aaron Anderson",
         5000000
        ],
        [
         "Algeria",
         "Aaron Abbott",
         942000
        ],
        [
         "American Samoa",
         "Abigail Bates",
         8000000
        ],
        [
         "Andorra",
         "Alison Bell",
         1000000
        ],
        [
         "Angola",
         "April Brown",
         8000000
        ],
        [
         "Anguilla",
         "Corey Andrews",
         92000
        ],
        [
         "Antarctica (the territory South of 60 deg S)",
         "Benjamin Campbell",
         1000000
        ],
        [
         "Antigua and Barbuda",
         "Ann Chung",
         1000000
        ],
        [
         "Argentina",
         "Andrew Anderson",
         800000
        ],
        [
         "Armenia",
         "Andrew Baker",
         892000
        ],
        [
         "Aruba",
         "Debra Becker",
         874000
        ],
        [
         "Australia",
         "Anne Clayton",
         1000000
        ],
        [
         "Austria",
         "Alex Barnes",
         89000
        ],
        [
         "Azerbaijan",
         "Amanda Ball",
         6000000
        ],
        [
         "Bahamas",
         "Julie Cook",
         41000
        ],
        [
         "Bahrain",
         "Carlos Estrada",
         46000
        ],
        [
         "Bangladesh",
         "Brian Hansen",
         4000000
        ],
        [
         "Barbados",
         "Brett Bryant",
         410000
        ],
        [
         "Belize",
         "Charles Johnson",
         67000
        ],
        [
         "Benin",
         "April Barr",
         23000
        ],
        [
         "Bermuda",
         "David Moss",
         46000
        ],
        [
         "Bhutan",
         "Aaron Jenkins",
         3000
        ],
        [
         "Bolivia",
         "Angela Flores",
         67000
        ],
        [
         "Botswana",
         "Austin Rodriguez",
         4000
        ],
        [
         "Bouvet Island (Bouvetoya)",
         "Amy Brown",
         5000000
        ],
        [
         "Brazil",
         "James Graves",
         5000
        ],
        [
         "British Virgin Islands",
         "Alex Bean",
         245000
        ],
        [
         "Bulgaria",
         "Anthony Adkins",
         603000
        ],
        [
         "Burkina Faso",
         "Andrew Brown",
         7000
        ],
        [
         "Cambodia",
         "Robert Murphy",
         6000
        ],
        [
         "Cameroon",
         "Alfred Chen",
         51000
        ],
        [
         "Canada",
         "Brandon Cummings",
         142000
        ],
        [
         "Cape Verde",
         "Alexander Perez",
         178000
        ],
        [
         "Cayman Islands",
         "Danny Ramsey",
         15000
        ],
        [
         "Central African Republic",
         "Annette Forbes",
         868000
        ],
        [
         "Chile",
         "Nathan Stanton",
         19000
        ],
        [
         "Christmas Island",
         "Barry Lynn",
         3000000
        ],
        [
         "Cocos (Keeling) Islands",
         "Thomas Turner",
         437
        ],
        [
         "Colombia",
         "Christina Haas",
         152000
        ],
        [
         "Comoros",
         "Gary Barker",
         196000
        ],
        [
         "Congo",
         "Aimee Collins",
         27000
        ],
        [
         "Cote d'Ivoire",
         "Brian Nelson",
         192000
        ],
        [
         "Croatia",
         "Aaron Clark",
         17000
        ],
        [
         "Cuba",
         "Cindy Bennett",
         102000
        ],
        [
         "Cyprus",
         "Jason Brooks",
         25000
        ],
        [
         "Czech Republic",
         "Jacob Castro",
         398000
        ],
        [
         "Denmark",
         "Jonathan Rodriguez",
         36000
        ],
        [
         "Djibouti",
         "Jesus Arellano",
         130000
        ],
        [
         "Dominica",
         "Charles Robinson",
         67000
        ],
        [
         "Dominican Republic",
         "Kaylee Miller",
         3000
        ],
        [
         "Ecuador",
         "Amber Gray",
         20000
        ],
        [
         "Egypt",
         "Kayla Burton",
         9000
        ],
        [
         "El Salvador",
         "Nathan Howard",
         42000
        ],
        [
         "Equatorial Guinea",
         "Elizabeth English",
         10000
        ],
        [
         "Estonia",
         "Barbara Ford",
         6000
        ],
        [
         "Faroe Islands",
         "Daniel Anderson",
         11000
        ],
        [
         "Finland",
         "Heather Edwards",
         79000
        ],
        [
         "French Guiana",
         "Adrian Jackson",
         214000
        ],
        [
         "French Southern Territories",
         "Mary Luna",
         40000
        ],
        [
         "Georgia",
         "Grant George",
         203000
        ],
        [
         "Germany",
         "Calvin Atkins",
         10000
        ],
        [
         "Ghana",
         "Nancy Case",
         191
        ],
        [
         "Gibraltar",
         "Brittany Thompson",
         89000
        ],
        [
         "Grenada",
         "Linda Blackwell",
         9000
        ],
        [
         "Guadeloupe",
         "Gary Tanner",
         13000
        ],
        [
         "Guam",
         "Holly Campbell",
         219000
        ],
        [
         "Guatemala",
         "Christine Adams",
         85000
        ],
        [
         "Guinea",
         "Adam Anderson",
         320
        ],
        [
         "Guinea-Bissau",
         "Joe Pham",
         0
        ],
        [
         "Holy See (Vatican City State)",
         "Shannon Melton",
         831
        ],
        [
         "Hungary",
         "Madeline Brown",
         2000
        ],
        [
         "India",
         "Jennifer Hudson",
         7000
        ],
        [
         "Indonesia",
         "David Craig",
         141000
        ],
        [
         "Ireland",
         "Debra Morse",
         49000
        ],
        [
         "Isle of Man",
         "Jon Burke",
         52000
        ],
        [
         "Israel",
         "Samuel Hawkins",
         3000
        ],
        [
         "Jamaica",
         "Barbara Edwards",
         19000
        ],
        [
         "Kenya",
         "Crystal Schmidt",
         4000
        ],
        [
         "Kuwait",
         "Justin Singleton",
         63000
        ],
        [
         "Latvia",
         "Patricia Harvey",
         23000
        ],
        [
         "Lesotho",
         "Regina Morales",
         908000
        ],
        [
         "Libyan Arab Jamahiriya",
         "Christopher Hamilton",
         40000
        ],
        [
         "Lithuania",
         "Catherine Ferrell",
         10000
        ],
        [
         "Macao",
         "Michael Mcconnell",
         3000
        ],
        [
         "Macedonia",
         "Katrina Fischer",
         7000
        ],
        [
         "Madagascar",
         "Rhonda Durham",
         112000
        ],
        [
         "Malawi",
         "Carla Arnold",
         14000
        ],
        [
         "Maldives",
         "Daniel Roy",
         330000
        ],
        [
         "Mali",
         "Michelle Richardson",
         122000
        ],
        [
         "Marshall Islands",
         "Nicholas Hart",
         13000
        ],
        [
         "Martinique",
         "Danielle Klein",
         1000000
        ],
        [
         "Mauritania",
         "Larry Pineda",
         22000
        ],
        [
         "Moldova",
         "Jason Horne",
         44000
        ],
        [
         "Monaco",
         "Glenn Hammond",
         227000
        ],
        [
         "Montserrat",
         "Brittany Butler",
         4000
        ],
        [
         "Morocco",
         "Courtney Chung",
         13000
        ],
        [
         "Mozambique",
         "Emily Hawkins",
         83000
        ],
        [
         "Namibia",
         "Charlotte Pitts",
         168000
        ],
        [
         "Netherlands",
         "Elizabeth Green",
         136000
        ],
        [
         "Netherlands Antilles",
         "Brandon Jackson",
         7000
        ],
        [
         "New Caledonia",
         "Peter Roberts",
         377
        ],
        [
         "New Zealand",
         "Sandra Humphrey",
         19000
        ],
        [
         "Nicaragua",
         "Alexander Cervantes",
         9000
        ],
        [
         "Norway",
         "Nicole Gray",
         189
        ],
        [
         "Panama",
         "Jessica Mejia",
         1000
        ],
        [
         "Papua New Guinea",
         "Michelle Gutierrez",
         112
        ],
        [
         "Philippines",
         "Michael Carter",
         111
        ],
        [
         "Pitcairn Islands",
         "Elizabeth Terry",
         671000
        ],
        [
         "Poland",
         "John Anderson",
         265
        ],
        [
         "Portugal",
         "Eric Taylor",
         29000
        ],
        [
         "Puerto Rico",
         "Samuel Thompson",
         1000
        ],
        [
         "Romania",
         "Scott Page",
         3000
        ],
        [
         "Saint Barthelemy",
         "Gerald Davis",
         517
        ],
        [
         "Saint Helena",
         "Mindy Garrison",
         328
        ],
        [
         "Saint Kitts and Nevis",
         "Julie Cox",
         171000
        ],
        [
         "Saint Pierre and Miquelon",
         "James Keith",
         323
        ],
        [
         "Saint Vincent and the Grenadines",
         "Karina Morton",
         13
        ],
        [
         "Samoa",
         "Mark Richardson",
         196
        ],
        [
         "Sao Tome and Principe",
         "Nicholas Mcdaniel",
         2000
        ],
        [
         "Serbia",
         "Cameron Medina",
         78
        ],
        [
         "Seychelles",
         "Tammy Davis",
         21000
        ],
        [
         "Solomon Islands",
         "Cindy Morales",
         7000
        ],
        [
         "Somalia",
         "Amber Robinson",
         27000
        ],
        [
         "South Africa",
         "Stacy May",
         3000
        ],
        [
         "Sudan",
         "Cheryl Huerta",
         940
        ],
        [
         "Tanzania",
         "Sarah Buchanan",
         26
        ],
        [
         "Togo",
         "Jeremy Chase",
         4000
        ],
        [
         "Tonga",
         "Gregory Ramsey",
         0
        ],
        [
         "Trinidad and Tobago",
         "Joshua Long",
         254
        ],
        [
         "Tunisia",
         "Shawn Jones",
         66000
        ],
        [
         "Turkey",
         "Richard Edwards",
         9000
        ],
        [
         "Turkmenistan",
         "Vernon Brown",
         1000
        ],
        [
         "Tuvalu",
         "Grant Villanueva",
         41
        ],
        [
         "Venezuela",
         "Scott Houston",
         100000
        ],
        [
         "Vietnam",
         "Joseph Kelly",
         15000
        ],
        [
         "Wallis and Futuna",
         "Barry West",
         2000
        ]
       ],
       "datasetInfos": [],
       "dbfsResultPath": null,
       "isJsonSchema": true,
       "metadata": {},
       "overflow": false,
       "plotOptions": {
        "customPlotOptions": {},
        "displayType": "table",
        "pivotAggregation": null,
        "pivotColumns": null,
        "xColumns": null,
        "yColumns": null
       },
       "removedWidgets": [],
       "schema": [
        {
         "metadata": "{}",
         "name": "country",
         "type": "\"string\""
        },
        {
         "metadata": "{}",
         "name": "user_name",
         "type": "\"string\""
        },
        {
         "metadata": "{}",
         "name": "follower_count",
         "type": "\"integer\""
        }
       ],
       "type": "table"
      }
     },
     "output_type": "display_data"
    }
   ],
   "source": [
    "w = Window.partitionBy('country')\n",
    "q3_step1 = df_joined.withColumn('max_follower', F.max('follower_count').over(w))\\\n",
    "                   .where(F.col('follower_count') == F.col('max_follower'))\\\n",
    "                   .drop('max_follower')\\\n",
    "                   .select(['country', 'user_name', 'follower_count'])\\\n",
    "                   .dropDuplicates(q_step1.columns)\n",
    "display(q3_step1)"
   ]
  },
  {
   "cell_type": "code",
   "execution_count": null,
   "metadata": {
    "application/vnd.databricks.v1+cell": {
     "cellMetadata": {
      "byteLimit": 2048000,
      "rowLimit": 10000
     },
     "inputWidgets": {},
     "nuid": "6eae419c-8ec0-4a15-bc88-49914efda2d4",
     "showTitle": false,
     "title": ""
    }
   },
   "outputs": [
    {
     "data": {
      "text/html": [
       "<style scoped>\n",
       "  .table-result-container {\n",
       "    max-height: 300px;\n",
       "    overflow: auto;\n",
       "  }\n",
       "  table, th, td {\n",
       "    border: 1px solid black;\n",
       "    border-collapse: collapse;\n",
       "  }\n",
       "  th, td {\n",
       "    padding: 5px;\n",
       "  }\n",
       "  th {\n",
       "    text-align: left;\n",
       "  }\n",
       "</style><div class='table-result-container'><table class='table-result'><thead style='background-color: white'><tr><th>country</th><th>follower_count</th></tr></thead><tbody><tr><td>American Samoa</td><td>8000000</td></tr><tr><td>Angola</td><td>8000000</td></tr><tr><td>Azerbaijan</td><td>6000000</td></tr><tr><td>Bouvet Island (Bouvetoya)</td><td>5000000</td></tr><tr><td>Albania</td><td>5000000</td></tr><tr><td>Bangladesh</td><td>4000000</td></tr><tr><td>Afghanistan</td><td>3000000</td></tr><tr><td>Christmas Island</td><td>3000000</td></tr><tr><td>Antigua and Barbuda</td><td>1000000</td></tr><tr><td>Martinique</td><td>1000000</td></tr><tr><td>Andorra</td><td>1000000</td></tr><tr><td>Australia</td><td>1000000</td></tr><tr><td>Antarctica (the territory South of 60 deg S)</td><td>1000000</td></tr><tr><td>Algeria</td><td>942000</td></tr><tr><td>Lesotho</td><td>908000</td></tr><tr><td>Armenia</td><td>892000</td></tr><tr><td>Aruba</td><td>874000</td></tr><tr><td>Central African Republic</td><td>868000</td></tr><tr><td>Argentina</td><td>800000</td></tr><tr><td>Pitcairn Islands</td><td>671000</td></tr><tr><td>Bulgaria</td><td>603000</td></tr><tr><td>Barbados</td><td>410000</td></tr><tr><td>Czech Republic</td><td>398000</td></tr><tr><td>Maldives</td><td>330000</td></tr><tr><td>British Virgin Islands</td><td>245000</td></tr><tr><td>Monaco</td><td>227000</td></tr><tr><td>Guam</td><td>219000</td></tr><tr><td>French Guiana</td><td>214000</td></tr><tr><td>Georgia</td><td>203000</td></tr><tr><td>Comoros</td><td>196000</td></tr><tr><td>Cote d'Ivoire</td><td>192000</td></tr><tr><td>Cape Verde</td><td>178000</td></tr><tr><td>Saint Kitts and Nevis</td><td>171000</td></tr><tr><td>Namibia</td><td>168000</td></tr><tr><td>Colombia</td><td>152000</td></tr><tr><td>Canada</td><td>142000</td></tr><tr><td>Indonesia</td><td>141000</td></tr><tr><td>Netherlands</td><td>136000</td></tr><tr><td>Djibouti</td><td>130000</td></tr><tr><td>Mali</td><td>122000</td></tr><tr><td>Madagascar</td><td>112000</td></tr><tr><td>Cuba</td><td>102000</td></tr><tr><td>Venezuela</td><td>100000</td></tr><tr><td>Anguilla</td><td>92000</td></tr><tr><td>Gibraltar</td><td>89000</td></tr><tr><td>Austria</td><td>89000</td></tr><tr><td>Guatemala</td><td>85000</td></tr><tr><td>Mozambique</td><td>83000</td></tr><tr><td>Finland</td><td>79000</td></tr><tr><td>Belize</td><td>67000</td></tr><tr><td>Bolivia</td><td>67000</td></tr><tr><td>Dominica</td><td>67000</td></tr><tr><td>Tunisia</td><td>66000</td></tr><tr><td>Kuwait</td><td>63000</td></tr><tr><td>Isle of Man</td><td>52000</td></tr><tr><td>Cameroon</td><td>51000</td></tr><tr><td>Ireland</td><td>49000</td></tr><tr><td>Bahrain</td><td>46000</td></tr><tr><td>Bermuda</td><td>46000</td></tr><tr><td>Moldova</td><td>44000</td></tr><tr><td>El Salvador</td><td>42000</td></tr><tr><td>Bahamas</td><td>41000</td></tr><tr><td>Libyan Arab Jamahiriya</td><td>40000</td></tr><tr><td>French Southern Territories</td><td>40000</td></tr><tr><td>Denmark</td><td>36000</td></tr><tr><td>Portugal</td><td>29000</td></tr><tr><td>Somalia</td><td>27000</td></tr><tr><td>Congo</td><td>27000</td></tr><tr><td>Cyprus</td><td>25000</td></tr><tr><td>Benin</td><td>23000</td></tr><tr><td>Latvia</td><td>23000</td></tr><tr><td>Mauritania</td><td>22000</td></tr><tr><td>Seychelles</td><td>21000</td></tr><tr><td>Ecuador</td><td>20000</td></tr><tr><td>Jamaica</td><td>19000</td></tr><tr><td>New Zealand</td><td>19000</td></tr><tr><td>Chile</td><td>19000</td></tr><tr><td>Croatia</td><td>17000</td></tr><tr><td>Vietnam</td><td>15000</td></tr><tr><td>Cayman Islands</td><td>15000</td></tr><tr><td>Malawi</td><td>14000</td></tr><tr><td>Guadeloupe</td><td>13000</td></tr><tr><td>Marshall Islands</td><td>13000</td></tr><tr><td>Morocco</td><td>13000</td></tr><tr><td>Faroe Islands</td><td>11000</td></tr><tr><td>Germany</td><td>10000</td></tr><tr><td>Lithuania</td><td>10000</td></tr><tr><td>Equatorial Guinea</td><td>10000</td></tr><tr><td>Egypt</td><td>9000</td></tr><tr><td>Grenada</td><td>9000</td></tr><tr><td>Nicaragua</td><td>9000</td></tr><tr><td>Turkey</td><td>9000</td></tr><tr><td>Macedonia</td><td>7000</td></tr><tr><td>Solomon Islands</td><td>7000</td></tr><tr><td>India</td><td>7000</td></tr><tr><td>Netherlands Antilles</td><td>7000</td></tr><tr><td>Burkina Faso</td><td>7000</td></tr><tr><td>Cambodia</td><td>6000</td></tr><tr><td>Estonia</td><td>6000</td></tr><tr><td>Brazil</td><td>5000</td></tr><tr><td>Kenya</td><td>4000</td></tr><tr><td>Montserrat</td><td>4000</td></tr><tr><td>Botswana</td><td>4000</td></tr><tr><td>Togo</td><td>4000</td></tr><tr><td>Dominican Republic</td><td>3000</td></tr><tr><td>Israel</td><td>3000</td></tr><tr><td>Macao</td><td>3000</td></tr><tr><td>Romania</td><td>3000</td></tr><tr><td>Bhutan</td><td>3000</td></tr><tr><td>South Africa</td><td>3000</td></tr><tr><td>Wallis and Futuna</td><td>2000</td></tr><tr><td>Sao Tome and Principe</td><td>2000</td></tr><tr><td>Hungary</td><td>2000</td></tr><tr><td>Panama</td><td>1000</td></tr><tr><td>Puerto Rico</td><td>1000</td></tr><tr><td>Turkmenistan</td><td>1000</td></tr><tr><td>Sudan</td><td>940</td></tr><tr><td>Holy See (Vatican City State)</td><td>831</td></tr><tr><td>Saint Barthelemy</td><td>517</td></tr><tr><td>Cocos (Keeling) Islands</td><td>437</td></tr><tr><td>New Caledonia</td><td>377</td></tr><tr><td>Saint Helena</td><td>328</td></tr><tr><td>Saint Pierre and Miquelon</td><td>323</td></tr><tr><td>Guinea</td><td>320</td></tr><tr><td>Poland</td><td>265</td></tr><tr><td>Trinidad and Tobago</td><td>254</td></tr><tr><td>Samoa</td><td>196</td></tr><tr><td>Ghana</td><td>191</td></tr><tr><td>Norway</td><td>189</td></tr><tr><td>Papua New Guinea</td><td>112</td></tr><tr><td>Philippines</td><td>111</td></tr><tr><td>Serbia</td><td>78</td></tr><tr><td>Tuvalu</td><td>41</td></tr><tr><td>Tanzania</td><td>26</td></tr><tr><td>Saint Vincent and the Grenadines</td><td>13</td></tr><tr><td>Guinea-Bissau</td><td>0</td></tr><tr><td>Tonga</td><td>0</td></tr></tbody></table></div>"
      ]
     },
     "metadata": {
      "application/vnd.databricks.v1+output": {
       "addedWidgets": {},
       "aggData": [],
       "aggError": "",
       "aggOverflow": false,
       "aggSchema": [],
       "aggSeriesLimitReached": false,
       "aggType": "",
       "arguments": {},
       "columnCustomDisplayInfos": {},
       "data": [
        [
         "American Samoa",
         8000000
        ],
        [
         "Angola",
         8000000
        ],
        [
         "Azerbaijan",
         6000000
        ],
        [
         "Bouvet Island (Bouvetoya)",
         5000000
        ],
        [
         "Albania",
         5000000
        ],
        [
         "Bangladesh",
         4000000
        ],
        [
         "Afghanistan",
         3000000
        ],
        [
         "Christmas Island",
         3000000
        ],
        [
         "Antigua and Barbuda",
         1000000
        ],
        [
         "Martinique",
         1000000
        ],
        [
         "Andorra",
         1000000
        ],
        [
         "Australia",
         1000000
        ],
        [
         "Antarctica (the territory South of 60 deg S)",
         1000000
        ],
        [
         "Algeria",
         942000
        ],
        [
         "Lesotho",
         908000
        ],
        [
         "Armenia",
         892000
        ],
        [
         "Aruba",
         874000
        ],
        [
         "Central African Republic",
         868000
        ],
        [
         "Argentina",
         800000
        ],
        [
         "Pitcairn Islands",
         671000
        ],
        [
         "Bulgaria",
         603000
        ],
        [
         "Barbados",
         410000
        ],
        [
         "Czech Republic",
         398000
        ],
        [
         "Maldives",
         330000
        ],
        [
         "British Virgin Islands",
         245000
        ],
        [
         "Monaco",
         227000
        ],
        [
         "Guam",
         219000
        ],
        [
         "French Guiana",
         214000
        ],
        [
         "Georgia",
         203000
        ],
        [
         "Comoros",
         196000
        ],
        [
         "Cote d'Ivoire",
         192000
        ],
        [
         "Cape Verde",
         178000
        ],
        [
         "Saint Kitts and Nevis",
         171000
        ],
        [
         "Namibia",
         168000
        ],
        [
         "Colombia",
         152000
        ],
        [
         "Canada",
         142000
        ],
        [
         "Indonesia",
         141000
        ],
        [
         "Netherlands",
         136000
        ],
        [
         "Djibouti",
         130000
        ],
        [
         "Mali",
         122000
        ],
        [
         "Madagascar",
         112000
        ],
        [
         "Cuba",
         102000
        ],
        [
         "Venezuela",
         100000
        ],
        [
         "Anguilla",
         92000
        ],
        [
         "Gibraltar",
         89000
        ],
        [
         "Austria",
         89000
        ],
        [
         "Guatemala",
         85000
        ],
        [
         "Mozambique",
         83000
        ],
        [
         "Finland",
         79000
        ],
        [
         "Belize",
         67000
        ],
        [
         "Bolivia",
         67000
        ],
        [
         "Dominica",
         67000
        ],
        [
         "Tunisia",
         66000
        ],
        [
         "Kuwait",
         63000
        ],
        [
         "Isle of Man",
         52000
        ],
        [
         "Cameroon",
         51000
        ],
        [
         "Ireland",
         49000
        ],
        [
         "Bahrain",
         46000
        ],
        [
         "Bermuda",
         46000
        ],
        [
         "Moldova",
         44000
        ],
        [
         "El Salvador",
         42000
        ],
        [
         "Bahamas",
         41000
        ],
        [
         "Libyan Arab Jamahiriya",
         40000
        ],
        [
         "French Southern Territories",
         40000
        ],
        [
         "Denmark",
         36000
        ],
        [
         "Portugal",
         29000
        ],
        [
         "Somalia",
         27000
        ],
        [
         "Congo",
         27000
        ],
        [
         "Cyprus",
         25000
        ],
        [
         "Benin",
         23000
        ],
        [
         "Latvia",
         23000
        ],
        [
         "Mauritania",
         22000
        ],
        [
         "Seychelles",
         21000
        ],
        [
         "Ecuador",
         20000
        ],
        [
         "Jamaica",
         19000
        ],
        [
         "New Zealand",
         19000
        ],
        [
         "Chile",
         19000
        ],
        [
         "Croatia",
         17000
        ],
        [
         "Vietnam",
         15000
        ],
        [
         "Cayman Islands",
         15000
        ],
        [
         "Malawi",
         14000
        ],
        [
         "Guadeloupe",
         13000
        ],
        [
         "Marshall Islands",
         13000
        ],
        [
         "Morocco",
         13000
        ],
        [
         "Faroe Islands",
         11000
        ],
        [
         "Germany",
         10000
        ],
        [
         "Lithuania",
         10000
        ],
        [
         "Equatorial Guinea",
         10000
        ],
        [
         "Egypt",
         9000
        ],
        [
         "Grenada",
         9000
        ],
        [
         "Nicaragua",
         9000
        ],
        [
         "Turkey",
         9000
        ],
        [
         "Macedonia",
         7000
        ],
        [
         "Solomon Islands",
         7000
        ],
        [
         "India",
         7000
        ],
        [
         "Netherlands Antilles",
         7000
        ],
        [
         "Burkina Faso",
         7000
        ],
        [
         "Cambodia",
         6000
        ],
        [
         "Estonia",
         6000
        ],
        [
         "Brazil",
         5000
        ],
        [
         "Kenya",
         4000
        ],
        [
         "Montserrat",
         4000
        ],
        [
         "Botswana",
         4000
        ],
        [
         "Togo",
         4000
        ],
        [
         "Dominican Republic",
         3000
        ],
        [
         "Israel",
         3000
        ],
        [
         "Macao",
         3000
        ],
        [
         "Romania",
         3000
        ],
        [
         "Bhutan",
         3000
        ],
        [
         "South Africa",
         3000
        ],
        [
         "Wallis and Futuna",
         2000
        ],
        [
         "Sao Tome and Principe",
         2000
        ],
        [
         "Hungary",
         2000
        ],
        [
         "Panama",
         1000
        ],
        [
         "Puerto Rico",
         1000
        ],
        [
         "Turkmenistan",
         1000
        ],
        [
         "Sudan",
         940
        ],
        [
         "Holy See (Vatican City State)",
         831
        ],
        [
         "Saint Barthelemy",
         517
        ],
        [
         "Cocos (Keeling) Islands",
         437
        ],
        [
         "New Caledonia",
         377
        ],
        [
         "Saint Helena",
         328
        ],
        [
         "Saint Pierre and Miquelon",
         323
        ],
        [
         "Guinea",
         320
        ],
        [
         "Poland",
         265
        ],
        [
         "Trinidad and Tobago",
         254
        ],
        [
         "Samoa",
         196
        ],
        [
         "Ghana",
         191
        ],
        [
         "Norway",
         189
        ],
        [
         "Papua New Guinea",
         112
        ],
        [
         "Philippines",
         111
        ],
        [
         "Serbia",
         78
        ],
        [
         "Tuvalu",
         41
        ],
        [
         "Tanzania",
         26
        ],
        [
         "Saint Vincent and the Grenadines",
         13
        ],
        [
         "Guinea-Bissau",
         0
        ],
        [
         "Tonga",
         0
        ]
       ],
       "datasetInfos": [],
       "dbfsResultPath": null,
       "isJsonSchema": true,
       "metadata": {},
       "overflow": false,
       "plotOptions": {
        "customPlotOptions": {},
        "displayType": "table",
        "pivotAggregation": null,
        "pivotColumns": null,
        "xColumns": null,
        "yColumns": null
       },
       "removedWidgets": [],
       "schema": [
        {
         "metadata": "{}",
         "name": "country",
         "type": "\"string\""
        },
        {
         "metadata": "{}",
         "name": "follower_count",
         "type": "\"integer\""
        }
       ],
       "type": "table"
      }
     },
     "output_type": "display_data"
    }
   ],
   "source": [
    "q3_step2 = q_step1.groupBy('country')\\\n",
    "                 .agg(max('follower_count')\\\n",
    "                 .alias('follower_count'))\\\n",
    "                 .orderBy(['follower_count'], ascending=False)\n",
    "display(q3_step2)"
   ]
  },
  {
   "cell_type": "markdown",
   "metadata": {
    "application/vnd.databricks.v1+cell": {
     "cellMetadata": {
      "byteLimit": 2048000,
      "rowLimit": 10000
     },
     "inputWidgets": {},
     "nuid": "800e7693-566d-4552-9076-db99898af727",
     "showTitle": false,
     "title": ""
    }
   },
   "source": [
    "#### 4. What are the most popular categories by age group?"
   ]
  },
  {
   "cell_type": "code",
   "execution_count": null,
   "metadata": {
    "application/vnd.databricks.v1+cell": {
     "cellMetadata": {
      "byteLimit": 2048000,
      "rowLimit": 10000
     },
     "inputWidgets": {},
     "nuid": "9d3b6845-8153-46a4-a02d-724dde63cee6",
     "showTitle": false,
     "title": ""
    }
   },
   "outputs": [
    {
     "data": {
      "text/html": [
       "<style scoped>\n",
       "  .table-result-container {\n",
       "    max-height: 300px;\n",
       "    overflow: auto;\n",
       "  }\n",
       "  table, th, td {\n",
       "    border: 1px solid black;\n",
       "    border-collapse: collapse;\n",
       "  }\n",
       "  th, td {\n",
       "    padding: 5px;\n",
       "  }\n",
       "  th {\n",
       "    text-align: left;\n",
       "  }\n",
       "</style><div class='table-result-container'><table class='table-result'><thead style='background-color: white'><tr><th>age_group</th><th>category</th><th>category_count</th></tr></thead><tbody><tr><td>18-24</td><td>art</td><td>14</td></tr><tr><td>25-35</td><td>finance</td><td>11</td></tr><tr><td>36-50</td><td>quotes</td><td>8</td></tr><tr><td>50+</td><td>beauty</td><td>3</td></tr><tr><td>50+</td><td>education</td><td>3</td></tr><tr><td>50+</td><td>vehicles</td><td>3</td></tr></tbody></table></div>"
      ]
     },
     "metadata": {
      "application/vnd.databricks.v1+output": {
       "addedWidgets": {},
       "aggData": [],
       "aggError": "",
       "aggOverflow": false,
       "aggSchema": [],
       "aggSeriesLimitReached": false,
       "aggType": "",
       "arguments": {},
       "columnCustomDisplayInfos": {},
       "data": [
        [
         "18-24",
         "art",
         14
        ],
        [
         "25-35",
         "finance",
         11
        ],
        [
         "36-50",
         "quotes",
         8
        ],
        [
         "50+",
         "beauty",
         3
        ],
        [
         "50+",
         "education",
         3
        ],
        [
         "50+",
         "vehicles",
         3
        ]
       ],
       "datasetInfos": [],
       "dbfsResultPath": null,
       "isJsonSchema": true,
       "metadata": {},
       "overflow": false,
       "plotOptions": {
        "customPlotOptions": {},
        "displayType": "table",
        "pivotAggregation": null,
        "pivotColumns": null,
        "xColumns": null,
        "yColumns": null
       },
       "removedWidgets": [],
       "schema": [
        {
         "metadata": "{}",
         "name": "age_group",
         "type": "\"string\""
        },
        {
         "metadata": "{}",
         "name": "category",
         "type": "\"string\""
        },
        {
         "metadata": "{}",
         "name": "category_count",
         "type": "\"long\""
        }
       ],
       "type": "table"
      }
     },
     "output_type": "display_data"
    }
   ],
   "source": [
    "df_joined = df_joined.withColumn('age_group',\n",
    "             F.when(df_joined['age'] <= 24, '18-24')\n",
    "              .when(df_joined['age'] <= 35, '25-35')\n",
    "              .when(df_joined['age'] <= 50, '36-50')\n",
    "              .otherwise('50+'))\n",
    "\n",
    "q4_temp = df_joined.groupBy('age_group','category')\\\n",
    "              .agg(count('*')\\\n",
    "              .alias('category_count'))\\\n",
    "              .orderBy('age_group')\n",
    "\n",
    "w = Window.partitionBy('age_group')\n",
    "q4 = q4_temp.withColumn('max_count', F.max('category_count').over(w))\\\n",
    "           .where(F.col('category_count') == F.col('max_count'))\\\n",
    "           .drop('max_count')\n",
    "\n",
    "display(q4)"
   ]
  },
  {
   "cell_type": "markdown",
   "metadata": {
    "application/vnd.databricks.v1+cell": {
     "cellMetadata": {
      "byteLimit": 2048000,
      "rowLimit": 10000
     },
     "inputWidgets": {},
     "nuid": "d7892ba5-1179-4805-9621-cc2989792d94",
     "showTitle": false,
     "title": ""
    }
   },
   "source": [
    "#### 5. What is the median follower count for users by age group?"
   ]
  },
  {
   "cell_type": "code",
   "execution_count": null,
   "metadata": {
    "application/vnd.databricks.v1+cell": {
     "cellMetadata": {
      "byteLimit": 2048000,
      "rowLimit": 10000
     },
     "inputWidgets": {},
     "nuid": "e7518e1f-93e4-442d-bb1e-2127c809f457",
     "showTitle": false,
     "title": ""
    }
   },
   "outputs": [
    {
     "data": {
      "text/html": [
       "<style scoped>\n",
       "  .table-result-container {\n",
       "    max-height: 300px;\n",
       "    overflow: auto;\n",
       "  }\n",
       "  table, th, td {\n",
       "    border: 1px solid black;\n",
       "    border-collapse: collapse;\n",
       "  }\n",
       "  th, td {\n",
       "    padding: 5px;\n",
       "  }\n",
       "  th {\n",
       "    text-align: left;\n",
       "  }\n",
       "</style><div class='table-result-container'><table class='table-result'><thead style='background-color: white'><tr><th>age_group</th><th>median_follower_count</th></tr></thead><tbody><tr><td>50+</td><td>3000</td></tr><tr><td>36-50</td><td>6000</td></tr><tr><td>18-24</td><td>60000</td></tr><tr><td>25-35</td><td>31000</td></tr></tbody></table></div>"
      ]
     },
     "metadata": {
      "application/vnd.databricks.v1+output": {
       "addedWidgets": {},
       "aggData": [],
       "aggError": "",
       "aggOverflow": false,
       "aggSchema": [],
       "aggSeriesLimitReached": false,
       "aggType": "",
       "arguments": {},
       "columnCustomDisplayInfos": {},
       "data": [
        [
         "50+",
         3000
        ],
        [
         "36-50",
         6000
        ],
        [
         "18-24",
         60000
        ],
        [
         "25-35",
         31000
        ]
       ],
       "datasetInfos": [],
       "dbfsResultPath": null,
       "isJsonSchema": true,
       "metadata": {},
       "overflow": false,
       "plotOptions": {
        "customPlotOptions": {},
        "displayType": "table",
        "pivotAggregation": null,
        "pivotColumns": null,
        "xColumns": null,
        "yColumns": null
       },
       "removedWidgets": [],
       "schema": [
        {
         "metadata": "{}",
         "name": "age_group",
         "type": "\"string\""
        },
        {
         "metadata": "{}",
         "name": "median_follower_count",
         "type": "\"integer\""
        }
       ],
       "type": "table"
      }
     },
     "output_type": "display_data"
    }
   ],
   "source": [
    "from pyspark.sql import functions as F\n",
    "\n",
    "q5 = df_joined.groupBy('age_group')\\\n",
    "              .agg(percentile_approx('follower_count', 0.5)\\\n",
    "              .alias('median_follower_count'))\n",
    "display(q5)\n"
   ]
  },
  {
   "cell_type": "markdown",
   "metadata": {
    "application/vnd.databricks.v1+cell": {
     "cellMetadata": {},
     "inputWidgets": {},
     "nuid": "54032b15-a3d7-4a0d-a8b8-f6773bdcbffb",
     "showTitle": false,
     "title": ""
    }
   },
   "source": [
    "#### 6. What are the number of users joined each year?"
   ]
  },
  {
   "cell_type": "code",
   "execution_count": null,
   "metadata": {
    "application/vnd.databricks.v1+cell": {
     "cellMetadata": {
      "byteLimit": 2048000,
      "rowLimit": 10000
     },
     "inputWidgets": {},
     "nuid": "d3b3750c-6766-48fa-a660-ea48e9313753",
     "showTitle": false,
     "title": ""
    }
   },
   "outputs": [
    {
     "data": {
      "text/html": [
       "<style scoped>\n",
       "  .table-result-container {\n",
       "    max-height: 300px;\n",
       "    overflow: auto;\n",
       "  }\n",
       "  table, th, td {\n",
       "    border: 1px solid black;\n",
       "    border-collapse: collapse;\n",
       "  }\n",
       "  th, td {\n",
       "    padding: 5px;\n",
       "  }\n",
       "  th {\n",
       "    text-align: left;\n",
       "  }\n",
       "</style><div class='table-result-container'><table class='table-result'><thead style='background-color: white'><tr><th>join_year</th><th>count(unique_id, join_year)</th></tr></thead><tbody><tr><td>2015</td><td>98</td></tr><tr><td>2016</td><td>132</td></tr><tr><td>2017</td><td>47</td></tr></tbody></table></div>"
      ]
     },
     "metadata": {
      "application/vnd.databricks.v1+output": {
       "addedWidgets": {},
       "aggData": [],
       "aggError": "",
       "aggOverflow": false,
       "aggSchema": [],
       "aggSeriesLimitReached": false,
       "aggType": "",
       "arguments": {},
       "columnCustomDisplayInfos": {},
       "data": [
        [
         2015,
         98
        ],
        [
         2016,
         132
        ],
        [
         2017,
         47
        ]
       ],
       "datasetInfos": [],
       "dbfsResultPath": null,
       "isJsonSchema": true,
       "metadata": {},
       "overflow": false,
       "plotOptions": {
        "customPlotOptions": {},
        "displayType": "table",
        "pivotAggregation": null,
        "pivotColumns": null,
        "xColumns": null,
        "yColumns": null
       },
       "removedWidgets": [],
       "schema": [
        {
         "metadata": "{}",
         "name": "join_year",
         "type": "\"integer\""
        },
        {
         "metadata": "{}",
         "name": "count(unique_id, join_year)",
         "type": "\"long\""
        }
       ],
       "type": "table"
      }
     },
     "output_type": "display_data"
    }
   ],
   "source": [
    "df_joined = df_joined.withColumn('join_year', year(df_joined['date_joined']))\n",
    "q6 = df_joined.filter(\"join_year BETWEEN '2015' AND '2020'\")\\\n",
    "              .groupBy('join_year')\\\n",
    "              .agg(count_distinct('unique_id','join_year'))\\\n",
    "              .alias('number_users_joined')\n",
    "display(q6)"
   ]
  },
  {
   "cell_type": "markdown",
   "metadata": {
    "application/vnd.databricks.v1+cell": {
     "cellMetadata": {},
     "inputWidgets": {},
     "nuid": "4123192e-bb0d-4e07-a82d-f3e3555e0d72",
     "showTitle": false,
     "title": ""
    }
   },
   "source": [
    "#### 7. What us the median follower count of users based on their joining year?"
   ]
  },
  {
   "cell_type": "code",
   "execution_count": null,
   "metadata": {
    "application/vnd.databricks.v1+cell": {
     "cellMetadata": {
      "byteLimit": 2048000,
      "rowLimit": 10000
     },
     "inputWidgets": {},
     "nuid": "ea15f56f-9084-46cf-974c-efc29ebc3a48",
     "showTitle": false,
     "title": ""
    }
   },
   "outputs": [
    {
     "data": {
      "text/html": [
       "<style scoped>\n",
       "  .table-result-container {\n",
       "    max-height: 300px;\n",
       "    overflow: auto;\n",
       "  }\n",
       "  table, th, td {\n",
       "    border: 1px solid black;\n",
       "    border-collapse: collapse;\n",
       "  }\n",
       "  th, td {\n",
       "    padding: 5px;\n",
       "  }\n",
       "  th {\n",
       "    text-align: left;\n",
       "  }\n",
       "</style><div class='table-result-container'><table class='table-result'><thead style='background-color: white'><tr><th>join_year</th><th>median_follower_count</th></tr></thead><tbody><tr><td>2015</td><td>67000</td></tr><tr><td>2016</td><td>23000</td></tr><tr><td>2017</td><td>6000</td></tr></tbody></table></div>"
      ]
     },
     "metadata": {
      "application/vnd.databricks.v1+output": {
       "addedWidgets": {},
       "aggData": [],
       "aggError": "",
       "aggOverflow": false,
       "aggSchema": [],
       "aggSeriesLimitReached": false,
       "aggType": "",
       "arguments": {},
       "columnCustomDisplayInfos": {},
       "data": [
        [
         2015,
         67000
        ],
        [
         2016,
         23000
        ],
        [
         2017,
         6000
        ]
       ],
       "datasetInfos": [],
       "dbfsResultPath": null,
       "isJsonSchema": true,
       "metadata": {},
       "overflow": false,
       "plotOptions": {
        "customPlotOptions": {},
        "displayType": "table",
        "pivotAggregation": null,
        "pivotColumns": null,
        "xColumns": null,
        "yColumns": null
       },
       "removedWidgets": [],
       "schema": [
        {
         "metadata": "{}",
         "name": "join_year",
         "type": "\"integer\""
        },
        {
         "metadata": "{}",
         "name": "median_follower_count",
         "type": "\"integer\""
        }
       ],
       "type": "table"
      }
     },
     "output_type": "display_data"
    }
   ],
   "source": [
    "q7 = df_joined.filter(\"join_year BETWEEN '2015' AND '2020'\")\\\n",
    "              .groupBy('join_year')\\\n",
    "              .agg(percentile_approx('follower_count', 0.5)\\\n",
    "              .alias('median_follower_count'))\n",
    "display(q7)"
   ]
  },
  {
   "cell_type": "markdown",
   "metadata": {
    "application/vnd.databricks.v1+cell": {
     "cellMetadata": {},
     "inputWidgets": {},
     "nuid": "145b03d7-35f2-40d5-b769-b9d6989ce0e3",
     "showTitle": false,
     "title": ""
    }
   },
   "source": [
    "#### 8. What are the median follower count of users based on their joining year and age group?"
   ]
  },
  {
   "cell_type": "code",
   "execution_count": null,
   "metadata": {
    "application/vnd.databricks.v1+cell": {
     "cellMetadata": {
      "byteLimit": 2048000,
      "rowLimit": 10000
     },
     "inputWidgets": {},
     "nuid": "4bce1071-fe4a-4168-8b98-cc31abc42987",
     "showTitle": false,
     "title": ""
    }
   },
   "outputs": [
    {
     "data": {
      "text/html": [
       "<style scoped>\n",
       "  .table-result-container {\n",
       "    max-height: 300px;\n",
       "    overflow: auto;\n",
       "  }\n",
       "  table, th, td {\n",
       "    border: 1px solid black;\n",
       "    border-collapse: collapse;\n",
       "  }\n",
       "  th, td {\n",
       "    padding: 5px;\n",
       "  }\n",
       "  th {\n",
       "    text-align: left;\n",
       "  }\n",
       "</style><div class='table-result-container'><table class='table-result'><thead style='background-color: white'><tr><th>age_group</th><th>join_year</th><th>median_follower_count</th></tr></thead><tbody><tr><td>18-24</td><td>2015</td><td>211000</td></tr><tr><td>18-24</td><td>2016</td><td>40000</td></tr><tr><td>18-24</td><td>2017</td><td>11000</td></tr><tr><td>25-35</td><td>2015</td><td>42000</td></tr><tr><td>25-35</td><td>2016</td><td>27000</td></tr><tr><td>25-35</td><td>2017</td><td>8000</td></tr><tr><td>36-50</td><td>2015</td><td>6000</td></tr><tr><td>36-50</td><td>2016</td><td>9000</td></tr><tr><td>36-50</td><td>2017</td><td>3000</td></tr><tr><td>50+</td><td>2015</td><td>196</td></tr><tr><td>50+</td><td>2016</td><td>3000</td></tr><tr><td>50+</td><td>2017</td><td>5000</td></tr></tbody></table></div>"
      ]
     },
     "metadata": {
      "application/vnd.databricks.v1+output": {
       "addedWidgets": {},
       "aggData": [],
       "aggError": "",
       "aggOverflow": false,
       "aggSchema": [],
       "aggSeriesLimitReached": false,
       "aggType": "",
       "arguments": {},
       "columnCustomDisplayInfos": {},
       "data": [
        [
         "18-24",
         2015,
         211000
        ],
        [
         "18-24",
         2016,
         40000
        ],
        [
         "18-24",
         2017,
         11000
        ],
        [
         "25-35",
         2015,
         42000
        ],
        [
         "25-35",
         2016,
         27000
        ],
        [
         "25-35",
         2017,
         8000
        ],
        [
         "36-50",
         2015,
         6000
        ],
        [
         "36-50",
         2016,
         9000
        ],
        [
         "36-50",
         2017,
         3000
        ],
        [
         "50+",
         2015,
         196
        ],
        [
         "50+",
         2016,
         3000
        ],
        [
         "50+",
         2017,
         5000
        ]
       ],
       "datasetInfos": [],
       "dbfsResultPath": null,
       "isJsonSchema": true,
       "metadata": {},
       "overflow": false,
       "plotOptions": {
        "customPlotOptions": {},
        "displayType": "table",
        "pivotAggregation": null,
        "pivotColumns": null,
        "xColumns": null,
        "yColumns": null
       },
       "removedWidgets": [],
       "schema": [
        {
         "metadata": "{}",
         "name": "age_group",
         "type": "\"string\""
        },
        {
         "metadata": "{}",
         "name": "join_year",
         "type": "\"integer\""
        },
        {
         "metadata": "{}",
         "name": "median_follower_count",
         "type": "\"integer\""
        }
       ],
       "type": "table"
      }
     },
     "output_type": "display_data"
    }
   ],
   "source": [
    "q8 = df_joined.filter(\"join_year BETWEEN '2015' AND '2020'\")\\\n",
    "              .groupBy('age_group','join_year')\\\n",
    "              .agg(percentile_approx('follower_count', 0.5)\\\n",
    "              .alias('median_follower_count'))\\\n",
    "              .orderBy('age_group','join_year')\n",
    "display(q8)"
   ]
  }
 ],
 "metadata": {
  "application/vnd.databricks.v1+notebook": {
   "dashboards": [],
   "language": "python",
   "notebookMetadata": {
    "mostRecentlyExecutedCommandWithImplicitDF": {
     "commandId": 826148118085864,
     "dataframes": [
      "_sqldf"
     ]
    },
    "pythonIndentUnit": 4
   },
   "notebookName": "Batch_data_cleaning_&_querying",
   "widgets": {}
  },
  "language_info": {
   "name": "python"
  }
 },
 "nbformat": 4,
 "nbformat_minor": 0
}
